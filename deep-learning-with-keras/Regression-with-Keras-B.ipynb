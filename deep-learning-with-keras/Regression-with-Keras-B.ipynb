{
 "cells": [
  {
   "cell_type": "markdown",
   "metadata": {},
   "source": [
    "<h1 align=center><font size = 5>Regression Models with Keras</font></h1>\n"
   ]
  },
  {
   "cell_type": "markdown",
   "metadata": {},
   "source": [
    "B. Normalize the data (5 marks) \n",
    "\n",
    "Repeat Part A but use a normalized version of the data. Recall that one way to normalize the data is by subtracting the mean from the individual predictors and dividing by the standard deviation.\n",
    "\n",
    "How does the mean of the mean squared errors compare to that from Step A?"
   ]
  },
  {
   "cell_type": "code",
   "execution_count": null,
   "metadata": {},
   "outputs": [],
   "source": []
  },
  {
   "cell_type": "code",
   "execution_count": 45,
   "metadata": {
    "tags": []
   },
   "outputs": [],
   "source": [
    "import pandas as pd\n",
    "import numpy as np\n",
    "import keras\n",
    "from keras.models import Sequential\n",
    "from keras.layers import Dense\n",
    "from sklearn.model_selection import train_test_split\n",
    "from sklearn.metrics import mean_squared_error"
   ]
  },
  {
   "cell_type": "code",
   "execution_count": 36,
   "metadata": {
    "tags": []
   },
   "outputs": [],
   "source": [
    "concrete_data = pd.read_csv('https://s3-api.us-geo.objectstorage.softlayer.net/cf-courses-data/CognitiveClass/DL0101EN/labs/data/concrete_data.csv')"
   ]
  },
  {
   "cell_type": "code",
   "execution_count": 38,
   "metadata": {
    "tags": []
   },
   "outputs": [
    {
     "data": {
      "text/html": [
       "<div>\n",
       "<style scoped>\n",
       "    .dataframe tbody tr th:only-of-type {\n",
       "        vertical-align: middle;\n",
       "    }\n",
       "\n",
       "    .dataframe tbody tr th {\n",
       "        vertical-align: top;\n",
       "    }\n",
       "\n",
       "    .dataframe thead th {\n",
       "        text-align: right;\n",
       "    }\n",
       "</style>\n",
       "<table border=\"1\" class=\"dataframe\">\n",
       "  <thead>\n",
       "    <tr style=\"text-align: right;\">\n",
       "      <th></th>\n",
       "      <th>Cement</th>\n",
       "      <th>Blast Furnace Slag</th>\n",
       "      <th>Fly Ash</th>\n",
       "      <th>Water</th>\n",
       "      <th>Superplasticizer</th>\n",
       "      <th>Coarse Aggregate</th>\n",
       "      <th>Fine Aggregate</th>\n",
       "      <th>Age</th>\n",
       "      <th>Strength</th>\n",
       "    </tr>\n",
       "  </thead>\n",
       "  <tbody>\n",
       "    <tr>\n",
       "      <th>0</th>\n",
       "      <td>540.0</td>\n",
       "      <td>0.0</td>\n",
       "      <td>0.0</td>\n",
       "      <td>162.0</td>\n",
       "      <td>2.5</td>\n",
       "      <td>1040.0</td>\n",
       "      <td>676.0</td>\n",
       "      <td>28</td>\n",
       "      <td>79.99</td>\n",
       "    </tr>\n",
       "    <tr>\n",
       "      <th>1</th>\n",
       "      <td>540.0</td>\n",
       "      <td>0.0</td>\n",
       "      <td>0.0</td>\n",
       "      <td>162.0</td>\n",
       "      <td>2.5</td>\n",
       "      <td>1055.0</td>\n",
       "      <td>676.0</td>\n",
       "      <td>28</td>\n",
       "      <td>61.89</td>\n",
       "    </tr>\n",
       "    <tr>\n",
       "      <th>2</th>\n",
       "      <td>332.5</td>\n",
       "      <td>142.5</td>\n",
       "      <td>0.0</td>\n",
       "      <td>228.0</td>\n",
       "      <td>0.0</td>\n",
       "      <td>932.0</td>\n",
       "      <td>594.0</td>\n",
       "      <td>270</td>\n",
       "      <td>40.27</td>\n",
       "    </tr>\n",
       "    <tr>\n",
       "      <th>3</th>\n",
       "      <td>332.5</td>\n",
       "      <td>142.5</td>\n",
       "      <td>0.0</td>\n",
       "      <td>228.0</td>\n",
       "      <td>0.0</td>\n",
       "      <td>932.0</td>\n",
       "      <td>594.0</td>\n",
       "      <td>365</td>\n",
       "      <td>41.05</td>\n",
       "    </tr>\n",
       "    <tr>\n",
       "      <th>4</th>\n",
       "      <td>198.6</td>\n",
       "      <td>132.4</td>\n",
       "      <td>0.0</td>\n",
       "      <td>192.0</td>\n",
       "      <td>0.0</td>\n",
       "      <td>978.4</td>\n",
       "      <td>825.5</td>\n",
       "      <td>360</td>\n",
       "      <td>44.30</td>\n",
       "    </tr>\n",
       "  </tbody>\n",
       "</table>\n",
       "</div>"
      ],
      "text/plain": [
       "   Cement  Blast Furnace Slag  Fly Ash  Water  Superplasticizer  \\\n",
       "0   540.0                 0.0      0.0  162.0               2.5   \n",
       "1   540.0                 0.0      0.0  162.0               2.5   \n",
       "2   332.5               142.5      0.0  228.0               0.0   \n",
       "3   332.5               142.5      0.0  228.0               0.0   \n",
       "4   198.6               132.4      0.0  192.0               0.0   \n",
       "\n",
       "   Coarse Aggregate  Fine Aggregate  Age  Strength  \n",
       "0            1040.0           676.0   28     79.99  \n",
       "1            1055.0           676.0   28     61.89  \n",
       "2             932.0           594.0  270     40.27  \n",
       "3             932.0           594.0  365     41.05  \n",
       "4             978.4           825.5  360     44.30  "
      ]
     },
     "execution_count": 38,
     "metadata": {},
     "output_type": "execute_result"
    }
   ],
   "source": [
    "concrete_data.head()"
   ]
  },
  {
   "cell_type": "code",
   "execution_count": 53,
   "metadata": {
    "tags": []
   },
   "outputs": [
    {
     "data": {
      "text/html": [
       "<div>\n",
       "<style scoped>\n",
       "    .dataframe tbody tr th:only-of-type {\n",
       "        vertical-align: middle;\n",
       "    }\n",
       "\n",
       "    .dataframe tbody tr th {\n",
       "        vertical-align: top;\n",
       "    }\n",
       "\n",
       "    .dataframe thead th {\n",
       "        text-align: right;\n",
       "    }\n",
       "</style>\n",
       "<table border=\"1\" class=\"dataframe\">\n",
       "  <thead>\n",
       "    <tr style=\"text-align: right;\">\n",
       "      <th></th>\n",
       "      <th>Cement</th>\n",
       "      <th>Blast Furnace Slag</th>\n",
       "      <th>Fly Ash</th>\n",
       "      <th>Water</th>\n",
       "      <th>Superplasticizer</th>\n",
       "      <th>Coarse Aggregate</th>\n",
       "      <th>Fine Aggregate</th>\n",
       "      <th>Age</th>\n",
       "    </tr>\n",
       "  </thead>\n",
       "  <tbody>\n",
       "    <tr>\n",
       "      <th>0</th>\n",
       "      <td>2.476712</td>\n",
       "      <td>-0.856472</td>\n",
       "      <td>-0.846733</td>\n",
       "      <td>-0.916319</td>\n",
       "      <td>-0.620147</td>\n",
       "      <td>0.862735</td>\n",
       "      <td>-1.217079</td>\n",
       "      <td>-0.279597</td>\n",
       "    </tr>\n",
       "    <tr>\n",
       "      <th>1</th>\n",
       "      <td>2.476712</td>\n",
       "      <td>-0.856472</td>\n",
       "      <td>-0.846733</td>\n",
       "      <td>-0.916319</td>\n",
       "      <td>-0.620147</td>\n",
       "      <td>1.055651</td>\n",
       "      <td>-1.217079</td>\n",
       "      <td>-0.279597</td>\n",
       "    </tr>\n",
       "    <tr>\n",
       "      <th>2</th>\n",
       "      <td>0.491187</td>\n",
       "      <td>0.795140</td>\n",
       "      <td>-0.846733</td>\n",
       "      <td>2.174405</td>\n",
       "      <td>-1.038638</td>\n",
       "      <td>-0.526262</td>\n",
       "      <td>-2.239829</td>\n",
       "      <td>3.551340</td>\n",
       "    </tr>\n",
       "    <tr>\n",
       "      <th>3</th>\n",
       "      <td>0.491187</td>\n",
       "      <td>0.795140</td>\n",
       "      <td>-0.846733</td>\n",
       "      <td>2.174405</td>\n",
       "      <td>-1.038638</td>\n",
       "      <td>-0.526262</td>\n",
       "      <td>-2.239829</td>\n",
       "      <td>5.055221</td>\n",
       "    </tr>\n",
       "    <tr>\n",
       "      <th>4</th>\n",
       "      <td>-0.790075</td>\n",
       "      <td>0.678079</td>\n",
       "      <td>-0.846733</td>\n",
       "      <td>0.488555</td>\n",
       "      <td>-1.038638</td>\n",
       "      <td>0.070492</td>\n",
       "      <td>0.647569</td>\n",
       "      <td>4.976069</td>\n",
       "    </tr>\n",
       "  </tbody>\n",
       "</table>\n",
       "</div>"
      ],
      "text/plain": [
       "     Cement  Blast Furnace Slag   Fly Ash     Water  Superplasticizer  \\\n",
       "0  2.476712           -0.856472 -0.846733 -0.916319         -0.620147   \n",
       "1  2.476712           -0.856472 -0.846733 -0.916319         -0.620147   \n",
       "2  0.491187            0.795140 -0.846733  2.174405         -1.038638   \n",
       "3  0.491187            0.795140 -0.846733  2.174405         -1.038638   \n",
       "4 -0.790075            0.678079 -0.846733  0.488555         -1.038638   \n",
       "\n",
       "   Coarse Aggregate  Fine Aggregate       Age  \n",
       "0          0.862735       -1.217079 -0.279597  \n",
       "1          1.055651       -1.217079 -0.279597  \n",
       "2         -0.526262       -2.239829  3.551340  \n",
       "3         -0.526262       -2.239829  5.055221  \n",
       "4          0.070492        0.647569  4.976069  "
      ]
     },
     "execution_count": 53,
     "metadata": {},
     "output_type": "execute_result"
    }
   ],
   "source": [
    "predictors = concrete_data.iloc[:,0:8]\n",
    "target = concrete_data.iloc[:,8]\n",
    "predictors_normalized = (predictors - predictors.mean()) / predictors.std()\n",
    "\n",
    "predictors_normalized.head()"
   ]
  },
  {
   "cell_type": "code",
   "execution_count": 54,
   "metadata": {
    "tags": []
   },
   "outputs": [
    {
     "data": {
      "text/plain": [
       "0    79.99\n",
       "1    61.89\n",
       "2    40.27\n",
       "3    41.05\n",
       "4    44.30\n",
       "Name: Strength, dtype: float64"
      ]
     },
     "execution_count": 54,
     "metadata": {},
     "output_type": "execute_result"
    }
   ],
   "source": [
    "target.head()"
   ]
  },
  {
   "cell_type": "code",
   "execution_count": 55,
   "metadata": {
    "tags": []
   },
   "outputs": [],
   "source": [
    "# number of predictors\n",
    "n_cols = predictors.shape[1]\n",
    "\n",
    "# define regression model\n",
    "def regression_model():\n",
    "  # create model\n",
    "  model = Sequential()\n",
    "  model.add(Dense(10, activation='relu', input_shape=(n_cols,)))\n",
    "  model.add(Dense(1))\n",
    "\n",
    "  # compile model\n",
    "  model.compile(optimizer='adam', loss='mean_squared_error')\n",
    "  return model"
   ]
  },
  {
   "cell_type": "code",
   "execution_count": 56,
   "metadata": {
    "tags": []
   },
   "outputs": [],
   "source": [
    "# model summary\n",
    "model = regression_model()"
   ]
  },
  {
   "cell_type": "code",
   "execution_count": 57,
   "metadata": {
    "tags": []
   },
   "outputs": [],
   "source": [
    "X_train, X_test, y_train, y_test = train_test_split(predictors_normalized, target, test_size=0.3)"
   ]
  },
  {
   "cell_type": "code",
   "execution_count": 58,
   "metadata": {
    "tags": []
   },
   "outputs": [
    {
     "name": "stdout",
     "output_type": "stream",
     "text": [
      "Epoch 1/50\n",
      "721/721 [==============================] - 0s 344us/step - loss: 1600.2463\n",
      "Epoch 2/50\n",
      "721/721 [==============================] - 0s 101us/step - loss: 1586.2946\n",
      "Epoch 3/50\n",
      "721/721 [==============================] - 0s 92us/step - loss: 1572.1031\n",
      "Epoch 4/50\n",
      "721/721 [==============================] - 0s 101us/step - loss: 1557.6718\n",
      "Epoch 5/50\n",
      "721/721 [==============================] - 0s 89us/step - loss: 1542.3830\n",
      "Epoch 6/50\n",
      "721/721 [==============================] - 0s 82us/step - loss: 1526.1061\n",
      "Epoch 7/50\n",
      "721/721 [==============================] - 0s 75us/step - loss: 1508.7284\n",
      "Epoch 8/50\n",
      "721/721 [==============================] - 0s 113us/step - loss: 1489.5848\n",
      "Epoch 9/50\n",
      "721/721 [==============================] - 0s 65us/step - loss: 1468.9367\n",
      "Epoch 10/50\n",
      "721/721 [==============================] - 0s 60us/step - loss: 1446.1301\n",
      "Epoch 11/50\n",
      "721/721 [==============================] - 0s 63us/step - loss: 1421.4854\n",
      "Epoch 12/50\n",
      "721/721 [==============================] - 0s 73us/step - loss: 1394.8917\n",
      "Epoch 13/50\n",
      "721/721 [==============================] - 0s 59us/step - loss: 1366.2316\n",
      "Epoch 14/50\n",
      "721/721 [==============================] - 0s 55us/step - loss: 1335.5631\n",
      "Epoch 15/50\n",
      "721/721 [==============================] - 0s 56us/step - loss: 1303.3811\n",
      "Epoch 16/50\n",
      "721/721 [==============================] - 0s 56us/step - loss: 1268.7440\n",
      "Epoch 17/50\n",
      "721/721 [==============================] - 0s 53us/step - loss: 1232.7117\n",
      "Epoch 18/50\n",
      "721/721 [==============================] - 0s 58us/step - loss: 1194.5501\n",
      "Epoch 19/50\n",
      "721/721 [==============================] - 0s 52us/step - loss: 1155.0214\n",
      "Epoch 20/50\n",
      "721/721 [==============================] - 0s 55us/step - loss: 1114.0962\n",
      "Epoch 21/50\n",
      "721/721 [==============================] - 0s 75us/step - loss: 1071.3726\n",
      "Epoch 22/50\n",
      "721/721 [==============================] - 0s 39us/step - loss: 1028.7531\n",
      "Epoch 23/50\n",
      "721/721 [==============================] - 0s 40us/step - loss: 984.9348\n",
      "Epoch 24/50\n",
      "721/721 [==============================] - 0s 56us/step - loss: 940.2159\n",
      "Epoch 25/50\n",
      "721/721 [==============================] - 0s 74us/step - loss: 897.0575\n",
      "Epoch 26/50\n",
      "721/721 [==============================] - 0s 59us/step - loss: 853.1906\n",
      "Epoch 27/50\n",
      "721/721 [==============================] - 0s 52us/step - loss: 810.4094\n",
      "Epoch 28/50\n",
      "721/721 [==============================] - 0s 54us/step - loss: 768.4913\n",
      "Epoch 29/50\n",
      "721/721 [==============================] - 0s 54us/step - loss: 727.0655\n",
      "Epoch 30/50\n",
      "721/721 [==============================] - 0s 55us/step - loss: 688.1990\n",
      "Epoch 31/50\n",
      "721/721 [==============================] - 0s 57us/step - loss: 649.5602\n",
      "Epoch 32/50\n",
      "721/721 [==============================] - 0s 56us/step - loss: 613.3674\n",
      "Epoch 33/50\n",
      "721/721 [==============================] - 0s 53us/step - loss: 578.6556\n",
      "Epoch 34/50\n",
      "721/721 [==============================] - 0s 52us/step - loss: 545.8936\n",
      "Epoch 35/50\n",
      "721/721 [==============================] - 0s 62us/step - loss: 514.7926\n",
      "Epoch 36/50\n",
      "721/721 [==============================] - 0s 53us/step - loss: 485.4446\n",
      "Epoch 37/50\n",
      "721/721 [==============================] - 0s 52us/step - loss: 458.4254\n",
      "Epoch 38/50\n",
      "721/721 [==============================] - 0s 54us/step - loss: 432.7596\n",
      "Epoch 39/50\n",
      "721/721 [==============================] - 0s 57us/step - loss: 409.2842\n",
      "Epoch 40/50\n",
      "721/721 [==============================] - 0s 52us/step - loss: 387.4610\n",
      "Epoch 41/50\n",
      "721/721 [==============================] - 0s 53us/step - loss: 367.5185\n",
      "Epoch 42/50\n",
      "721/721 [==============================] - 0s 54us/step - loss: 349.0422\n",
      "Epoch 43/50\n",
      "721/721 [==============================] - 0s 56us/step - loss: 332.6510\n",
      "Epoch 44/50\n",
      "721/721 [==============================] - 0s 55us/step - loss: 316.8206\n",
      "Epoch 45/50\n",
      "721/721 [==============================] - 0s 56us/step - loss: 302.7364\n",
      "Epoch 46/50\n",
      "721/721 [==============================] - 0s 52us/step - loss: 290.0078\n",
      "Epoch 47/50\n",
      "721/721 [==============================] - 0s 58us/step - loss: 278.6444\n",
      "Epoch 48/50\n",
      "721/721 [==============================] - 0s 55us/step - loss: 268.0851\n",
      "Epoch 49/50\n",
      "721/721 [==============================] - 0s 56us/step - loss: 259.0203\n",
      "Epoch 50/50\n",
      "721/721 [==============================] - 0s 55us/step - loss: 250.2983\n"
     ]
    },
    {
     "data": {
      "text/plain": [
       "<keras.callbacks.History at 0x7f5ee602c2d0>"
      ]
     },
     "execution_count": 58,
     "metadata": {},
     "output_type": "execute_result"
    }
   ],
   "source": [
    "model.fit(X_train, y_train, epochs=50, verbose=1)"
   ]
  },
  {
   "cell_type": "code",
   "execution_count": 60,
   "metadata": {
    "tags": []
   },
   "outputs": [
    {
     "name": "stdout",
     "output_type": "stream",
     "text": [
      "309/309 [==============================] - 0s 23us/step\n",
      "Loss value:  240.81325187806559\n"
     ]
    }
   ],
   "source": [
    "loss_val = model.evaluate(X_test, y_test)\n",
    "y_pred = model.predict(X_test)\n",
    "\n",
    "print(\"Loss value: \", loss_val)"
   ]
  },
  {
   "cell_type": "code",
   "execution_count": 61,
   "metadata": {
    "tags": []
   },
   "outputs": [
    {
     "name": "stdout",
     "output_type": "stream",
     "text": [
      "Mean squared error:  240.813247333134\n",
      "Standard deviation:  0.0\n"
     ]
    }
   ],
   "source": [
    "mean_quared_error = np.mean(mean_squared_error(y_test, y_pred))\n",
    "print(\"Mean squared error: \", mean_quared_error)\n",
    "\n",
    "standard_deviation = np.std(mean_quared_error)\n",
    "print(\"Standard deviation: \", standard_deviation)"
   ]
  },
  {
   "cell_type": "code",
   "execution_count": 62,
   "metadata": {
    "tags": []
   },
   "outputs": [
    {
     "name": "stdout",
     "output_type": "stream",
     "text": [
      "Mean squared error:  103257.52490711307\n",
      "Mean squared error:  15250.03653415319\n",
      "Mean squared error:  4660.852848797268\n",
      "Mean squared error:  2097.757769689259\n",
      "Mean squared error:  1681.3942606389878\n",
      "Mean squared error:  1495.7362535643633\n",
      "Mean squared error:  1401.3413589435052\n",
      "Mean squared error:  1359.2921755930358\n",
      "Mean squared error:  1257.590468057741\n",
      "Mean squared error:  1324.69956627208\n",
      "Mean squared error:  1197.2260377406665\n",
      "Mean squared error:  1045.3615891133918\n",
      "Mean squared error:  995.9182319374866\n",
      "Mean squared error:  249.3646981459063\n",
      "Mean squared error:  211.81828720753523\n",
      "Mean squared error:  182.65795311892128\n",
      "Mean squared error:  142.724558662589\n",
      "Mean squared error:  123.7814262153076\n",
      "Mean squared error:  134.46560562152393\n",
      "Mean squared error:  109.0798240118713\n",
      "Mean squared error:  114.08646160570214\n",
      "Mean squared error:  102.91109208453535\n",
      "Mean squared error:  111.09895380612694\n",
      "Mean squared error:  100.15790944077315\n",
      "Mean squared error:  119.9756783301858\n",
      "Mean squared error:  113.29352555379829\n",
      "Mean squared error:  108.78510154272925\n",
      "Mean squared error:  108.30137953210404\n",
      "Mean squared error:  103.2199608936067\n",
      "Mean squared error:  107.2173362794461\n",
      "Mean squared error:  100.257534577661\n",
      "Mean squared error:  102.81740044916789\n",
      "Mean squared error:  119.45401939500661\n",
      "Mean squared error:  98.7946776390545\n",
      "Mean squared error:  130.8181722968267\n",
      "Mean squared error:  107.73921303493785\n",
      "Mean squared error:  115.68593268768699\n",
      "Mean squared error:  116.78619293398766\n",
      "Mean squared error:  97.49080800433406\n",
      "Mean squared error:  104.27430093952879\n",
      "Mean squared error:  107.90702340124913\n",
      "Mean squared error:  110.90157558608357\n",
      "Mean squared error:  114.72341971948313\n",
      "Mean squared error:  117.94904383710444\n",
      "Mean squared error:  113.77525462904893\n",
      "Mean squared error:  104.08946457019069\n",
      "Mean squared error:  109.79898981765575\n",
      "Mean squared error:  114.80022965130495\n",
      "Mean squared error:  94.04551075444373\n",
      "Mean squared error:  116.35790326727076\n",
      "Mean:  2829.3227684171748\n",
      "Standard deviation:  14516.782787786517\n"
     ]
    }
   ],
   "source": [
    "total_mean_squared_errors = 50\n",
    "epochs = 50\n",
    "mean_squared_errors = []\n",
    "\n",
    "for i in range(total_mean_squared_errors):\n",
    "  X_train, X_test, y_train, y_test = train_test_split(predictors, target, test_size=0.3)\n",
    "  model.fit(X_train, y_train, epochs=epochs, verbose=0)\n",
    "  y_pred = model.predict(X_test)\n",
    "  mean_squared_errors.append(mean_squared_error(y_test, y_pred))\n",
    "  print(\"Mean squared error: \", mean_squared_error(y_test, y_pred))\n",
    "\n",
    "mean_squared_errors = np.array(mean_squared_errors)\n",
    "mean = np.mean(mean_squared_errors)\n",
    "\n",
    "print(\"Mean: \", mean)\n",
    "\n",
    "standard_deviation = np.std(mean_squared_errors)\n",
    "print(\"Standard deviation: \", standard_deviation)"
   ]
  },
  {
   "cell_type": "code",
   "execution_count": null,
   "metadata": {},
   "outputs": [],
   "source": []
  }
 ],
 "metadata": {
  "kernelspec": {
   "display_name": "Python",
   "language": "python",
   "name": "conda-env-python-py"
  },
  "language_info": {
   "codemirror_mode": {
    "name": "ipython",
    "version": 3
   },
   "file_extension": ".py",
   "mimetype": "text/x-python",
   "name": "python",
   "nbconvert_exporter": "python",
   "pygments_lexer": "ipython3",
   "version": "3.7.12"
  }
 },
 "nbformat": 4,
 "nbformat_minor": 4
}
