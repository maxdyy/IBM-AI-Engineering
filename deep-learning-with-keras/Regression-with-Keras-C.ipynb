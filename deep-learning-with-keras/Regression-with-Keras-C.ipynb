{
 "cells": [
  {
   "cell_type": "markdown",
   "metadata": {},
   "source": [
    "<h1 align=center><font size = 5>Regression Models with Keras</font></h1>\n"
   ]
  },
  {
   "cell_type": "markdown",
   "metadata": {},
   "source": [
    "C. Increate the number of epochs (5 marks)\n",
    "\n",
    "Repeat Part B but use 100 epochs this time for training.\n",
    "\n",
    "How does the mean of the mean squared errors compare to that from Step B?"
   ]
  },
  {
   "cell_type": "code",
   "execution_count": null,
   "metadata": {},
   "outputs": [],
   "source": []
  },
  {
   "cell_type": "code",
   "execution_count": 4,
   "metadata": {
    "tags": []
   },
   "outputs": [],
   "source": [
    "import pandas as pd\n",
    "import numpy as np\n",
    "import keras\n",
    "from keras.models import Sequential\n",
    "from keras.layers import Dense\n",
    "from sklearn.model_selection import train_test_split\n",
    "from sklearn.metrics import mean_squared_error"
   ]
  },
  {
   "cell_type": "code",
   "execution_count": 5,
   "metadata": {
    "tags": []
   },
   "outputs": [],
   "source": [
    "concrete_data = pd.read_csv('https://s3-api.us-geo.objectstorage.softlayer.net/cf-courses-data/CognitiveClass/DL0101EN/labs/data/concrete_data.csv')"
   ]
  },
  {
   "cell_type": "code",
   "execution_count": 6,
   "metadata": {
    "tags": []
   },
   "outputs": [
    {
     "data": {
      "text/html": [
       "<div>\n",
       "<style scoped>\n",
       "    .dataframe tbody tr th:only-of-type {\n",
       "        vertical-align: middle;\n",
       "    }\n",
       "\n",
       "    .dataframe tbody tr th {\n",
       "        vertical-align: top;\n",
       "    }\n",
       "\n",
       "    .dataframe thead th {\n",
       "        text-align: right;\n",
       "    }\n",
       "</style>\n",
       "<table border=\"1\" class=\"dataframe\">\n",
       "  <thead>\n",
       "    <tr style=\"text-align: right;\">\n",
       "      <th></th>\n",
       "      <th>Cement</th>\n",
       "      <th>Blast Furnace Slag</th>\n",
       "      <th>Fly Ash</th>\n",
       "      <th>Water</th>\n",
       "      <th>Superplasticizer</th>\n",
       "      <th>Coarse Aggregate</th>\n",
       "      <th>Fine Aggregate</th>\n",
       "      <th>Age</th>\n",
       "      <th>Strength</th>\n",
       "    </tr>\n",
       "  </thead>\n",
       "  <tbody>\n",
       "    <tr>\n",
       "      <th>0</th>\n",
       "      <td>540.0</td>\n",
       "      <td>0.0</td>\n",
       "      <td>0.0</td>\n",
       "      <td>162.0</td>\n",
       "      <td>2.5</td>\n",
       "      <td>1040.0</td>\n",
       "      <td>676.0</td>\n",
       "      <td>28</td>\n",
       "      <td>79.99</td>\n",
       "    </tr>\n",
       "    <tr>\n",
       "      <th>1</th>\n",
       "      <td>540.0</td>\n",
       "      <td>0.0</td>\n",
       "      <td>0.0</td>\n",
       "      <td>162.0</td>\n",
       "      <td>2.5</td>\n",
       "      <td>1055.0</td>\n",
       "      <td>676.0</td>\n",
       "      <td>28</td>\n",
       "      <td>61.89</td>\n",
       "    </tr>\n",
       "    <tr>\n",
       "      <th>2</th>\n",
       "      <td>332.5</td>\n",
       "      <td>142.5</td>\n",
       "      <td>0.0</td>\n",
       "      <td>228.0</td>\n",
       "      <td>0.0</td>\n",
       "      <td>932.0</td>\n",
       "      <td>594.0</td>\n",
       "      <td>270</td>\n",
       "      <td>40.27</td>\n",
       "    </tr>\n",
       "    <tr>\n",
       "      <th>3</th>\n",
       "      <td>332.5</td>\n",
       "      <td>142.5</td>\n",
       "      <td>0.0</td>\n",
       "      <td>228.0</td>\n",
       "      <td>0.0</td>\n",
       "      <td>932.0</td>\n",
       "      <td>594.0</td>\n",
       "      <td>365</td>\n",
       "      <td>41.05</td>\n",
       "    </tr>\n",
       "    <tr>\n",
       "      <th>4</th>\n",
       "      <td>198.6</td>\n",
       "      <td>132.4</td>\n",
       "      <td>0.0</td>\n",
       "      <td>192.0</td>\n",
       "      <td>0.0</td>\n",
       "      <td>978.4</td>\n",
       "      <td>825.5</td>\n",
       "      <td>360</td>\n",
       "      <td>44.30</td>\n",
       "    </tr>\n",
       "  </tbody>\n",
       "</table>\n",
       "</div>"
      ],
      "text/plain": [
       "   Cement  Blast Furnace Slag  Fly Ash  Water  Superplasticizer  \\\n",
       "0   540.0                 0.0      0.0  162.0               2.5   \n",
       "1   540.0                 0.0      0.0  162.0               2.5   \n",
       "2   332.5               142.5      0.0  228.0               0.0   \n",
       "3   332.5               142.5      0.0  228.0               0.0   \n",
       "4   198.6               132.4      0.0  192.0               0.0   \n",
       "\n",
       "   Coarse Aggregate  Fine Aggregate  Age  Strength  \n",
       "0            1040.0           676.0   28     79.99  \n",
       "1            1055.0           676.0   28     61.89  \n",
       "2             932.0           594.0  270     40.27  \n",
       "3             932.0           594.0  365     41.05  \n",
       "4             978.4           825.5  360     44.30  "
      ]
     },
     "execution_count": 6,
     "metadata": {},
     "output_type": "execute_result"
    }
   ],
   "source": [
    "concrete_data.head()"
   ]
  },
  {
   "cell_type": "code",
   "execution_count": 7,
   "metadata": {
    "tags": []
   },
   "outputs": [
    {
     "data": {
      "text/html": [
       "<div>\n",
       "<style scoped>\n",
       "    .dataframe tbody tr th:only-of-type {\n",
       "        vertical-align: middle;\n",
       "    }\n",
       "\n",
       "    .dataframe tbody tr th {\n",
       "        vertical-align: top;\n",
       "    }\n",
       "\n",
       "    .dataframe thead th {\n",
       "        text-align: right;\n",
       "    }\n",
       "</style>\n",
       "<table border=\"1\" class=\"dataframe\">\n",
       "  <thead>\n",
       "    <tr style=\"text-align: right;\">\n",
       "      <th></th>\n",
       "      <th>Cement</th>\n",
       "      <th>Blast Furnace Slag</th>\n",
       "      <th>Fly Ash</th>\n",
       "      <th>Water</th>\n",
       "      <th>Superplasticizer</th>\n",
       "      <th>Coarse Aggregate</th>\n",
       "      <th>Fine Aggregate</th>\n",
       "      <th>Age</th>\n",
       "    </tr>\n",
       "  </thead>\n",
       "  <tbody>\n",
       "    <tr>\n",
       "      <th>0</th>\n",
       "      <td>2.476712</td>\n",
       "      <td>-0.856472</td>\n",
       "      <td>-0.846733</td>\n",
       "      <td>-0.916319</td>\n",
       "      <td>-0.620147</td>\n",
       "      <td>0.862735</td>\n",
       "      <td>-1.217079</td>\n",
       "      <td>-0.279597</td>\n",
       "    </tr>\n",
       "    <tr>\n",
       "      <th>1</th>\n",
       "      <td>2.476712</td>\n",
       "      <td>-0.856472</td>\n",
       "      <td>-0.846733</td>\n",
       "      <td>-0.916319</td>\n",
       "      <td>-0.620147</td>\n",
       "      <td>1.055651</td>\n",
       "      <td>-1.217079</td>\n",
       "      <td>-0.279597</td>\n",
       "    </tr>\n",
       "    <tr>\n",
       "      <th>2</th>\n",
       "      <td>0.491187</td>\n",
       "      <td>0.795140</td>\n",
       "      <td>-0.846733</td>\n",
       "      <td>2.174405</td>\n",
       "      <td>-1.038638</td>\n",
       "      <td>-0.526262</td>\n",
       "      <td>-2.239829</td>\n",
       "      <td>3.551340</td>\n",
       "    </tr>\n",
       "    <tr>\n",
       "      <th>3</th>\n",
       "      <td>0.491187</td>\n",
       "      <td>0.795140</td>\n",
       "      <td>-0.846733</td>\n",
       "      <td>2.174405</td>\n",
       "      <td>-1.038638</td>\n",
       "      <td>-0.526262</td>\n",
       "      <td>-2.239829</td>\n",
       "      <td>5.055221</td>\n",
       "    </tr>\n",
       "    <tr>\n",
       "      <th>4</th>\n",
       "      <td>-0.790075</td>\n",
       "      <td>0.678079</td>\n",
       "      <td>-0.846733</td>\n",
       "      <td>0.488555</td>\n",
       "      <td>-1.038638</td>\n",
       "      <td>0.070492</td>\n",
       "      <td>0.647569</td>\n",
       "      <td>4.976069</td>\n",
       "    </tr>\n",
       "  </tbody>\n",
       "</table>\n",
       "</div>"
      ],
      "text/plain": [
       "     Cement  Blast Furnace Slag   Fly Ash     Water  Superplasticizer  \\\n",
       "0  2.476712           -0.856472 -0.846733 -0.916319         -0.620147   \n",
       "1  2.476712           -0.856472 -0.846733 -0.916319         -0.620147   \n",
       "2  0.491187            0.795140 -0.846733  2.174405         -1.038638   \n",
       "3  0.491187            0.795140 -0.846733  2.174405         -1.038638   \n",
       "4 -0.790075            0.678079 -0.846733  0.488555         -1.038638   \n",
       "\n",
       "   Coarse Aggregate  Fine Aggregate       Age  \n",
       "0          0.862735       -1.217079 -0.279597  \n",
       "1          1.055651       -1.217079 -0.279597  \n",
       "2         -0.526262       -2.239829  3.551340  \n",
       "3         -0.526262       -2.239829  5.055221  \n",
       "4          0.070492        0.647569  4.976069  "
      ]
     },
     "execution_count": 7,
     "metadata": {},
     "output_type": "execute_result"
    }
   ],
   "source": [
    "predictors = concrete_data.iloc[:,0:8]\n",
    "target = concrete_data.iloc[:,8]\n",
    "predictors_normalized = (predictors - predictors.mean()) / predictors.std()\n",
    "\n",
    "predictors_normalized.head()"
   ]
  },
  {
   "cell_type": "code",
   "execution_count": 8,
   "metadata": {
    "tags": []
   },
   "outputs": [
    {
     "data": {
      "text/plain": [
       "0    79.99\n",
       "1    61.89\n",
       "2    40.27\n",
       "3    41.05\n",
       "4    44.30\n",
       "Name: Strength, dtype: float64"
      ]
     },
     "execution_count": 8,
     "metadata": {},
     "output_type": "execute_result"
    }
   ],
   "source": [
    "target.head()"
   ]
  },
  {
   "cell_type": "code",
   "execution_count": 9,
   "metadata": {
    "tags": []
   },
   "outputs": [],
   "source": [
    "# number of predictors\n",
    "n_cols = predictors.shape[1]\n",
    "\n",
    "# define regression model\n",
    "def regression_model():\n",
    "  # create model\n",
    "  model = Sequential()\n",
    "  model.add(Dense(10, activation='relu', input_shape=(n_cols,)))\n",
    "  model.add(Dense(1))\n",
    "\n",
    "  # compile model\n",
    "  model.compile(optimizer='adam', loss='mean_squared_error')\n",
    "  return model"
   ]
  },
  {
   "cell_type": "code",
   "execution_count": 10,
   "metadata": {
    "tags": []
   },
   "outputs": [
    {
     "name": "stdout",
     "output_type": "stream",
     "text": [
      "WARNING:tensorflow:From /home/jupyterlab/conda/envs/python/lib/python3.7/site-packages/keras/backend/tensorflow_backend.py:68: The name tf.get_default_graph is deprecated. Please use tf.compat.v1.get_default_graph instead.\n",
      "\n",
      "WARNING:tensorflow:From /home/jupyterlab/conda/envs/python/lib/python3.7/site-packages/keras/backend/tensorflow_backend.py:508: The name tf.placeholder is deprecated. Please use tf.compat.v1.placeholder instead.\n",
      "\n",
      "WARNING:tensorflow:From /home/jupyterlab/conda/envs/python/lib/python3.7/site-packages/keras/backend/tensorflow_backend.py:3837: The name tf.random_uniform is deprecated. Please use tf.random.uniform instead.\n",
      "\n",
      "WARNING:tensorflow:From /home/jupyterlab/conda/envs/python/lib/python3.7/site-packages/keras/optimizers.py:757: The name tf.train.Optimizer is deprecated. Please use tf.compat.v1.train.Optimizer instead.\n",
      "\n"
     ]
    }
   ],
   "source": [
    "# model summary\n",
    "model = regression_model()"
   ]
  },
  {
   "cell_type": "code",
   "execution_count": 11,
   "metadata": {
    "tags": []
   },
   "outputs": [],
   "source": [
    "X_train, X_test, y_train, y_test = train_test_split(predictors_normalized, target, test_size=0.3)"
   ]
  },
  {
   "cell_type": "code",
   "execution_count": 12,
   "metadata": {
    "tags": []
   },
   "outputs": [
    {
     "name": "stdout",
     "output_type": "stream",
     "text": [
      "WARNING:tensorflow:From /home/jupyterlab/conda/envs/python/lib/python3.7/site-packages/keras/backend/tensorflow_backend.py:977: The name tf.assign_add is deprecated. Please use tf.compat.v1.assign_add instead.\n",
      "\n",
      "WARNING:tensorflow:From /home/jupyterlab/conda/envs/python/lib/python3.7/site-packages/keras/backend/tensorflow_backend.py:964: The name tf.assign is deprecated. Please use tf.compat.v1.assign instead.\n",
      "\n",
      "Epoch 1/100\n",
      " 32/721 [>.............................] - ETA: 3s - loss: 1350.5933"
     ]
    },
    {
     "name": "stderr",
     "output_type": "stream",
     "text": [
      "2023-07-06 14:58:52.113462: I tensorflow/core/platform/cpu_feature_guard.cc:142] Your CPU supports instructions that this TensorFlow binary was not compiled to use: SSE4.1 SSE4.2 AVX AVX2 AVX512F FMA\n",
      "2023-07-06 14:58:52.118349: I tensorflow/core/platform/profile_utils/cpu_utils.cc:94] CPU Frequency: 2494060000 Hz\n",
      "2023-07-06 14:58:52.119037: I tensorflow/compiler/xla/service/service.cc:168] XLA service 0x56523be85f00 executing computations on platform Host. Devices:\n",
      "2023-07-06 14:58:52.119084: I tensorflow/compiler/xla/service/service.cc:175]   StreamExecutor device (0): <undefined>, <undefined>\n",
      "2023-07-06 14:58:52.192765: W tensorflow/compiler/jit/mark_for_compilation_pass.cc:1412] (One-time warning): Not using XLA:CPU for cluster because envvar TF_XLA_FLAGS=--tf_xla_cpu_global_jit was not set.  If you want XLA:CPU, either set that envvar, or use experimental_jit_scope to enable XLA:CPU.  To confirm that XLA is active, pass --vmodule=xla_compilation_cache=1 (as a proper command-line flag, not via TF_XLA_FLAGS) or set the envvar XLA_FLAGS=--xla_hlo_profile.\n"
     ]
    },
    {
     "name": "stdout",
     "output_type": "stream",
     "text": [
      "721/721 [==============================] - 0s 352us/step - loss: 1485.0760\n",
      "Epoch 2/100\n",
      "721/721 [==============================] - 0s 111us/step - loss: 1468.8460\n",
      "Epoch 3/100\n",
      "721/721 [==============================] - 0s 107us/step - loss: 1451.8930\n",
      "Epoch 4/100\n",
      "721/721 [==============================] - 0s 89us/step - loss: 1433.5326\n",
      "Epoch 5/100\n",
      "721/721 [==============================] - 0s 107us/step - loss: 1413.9954\n",
      "Epoch 6/100\n",
      "721/721 [==============================] - 0s 81us/step - loss: 1393.2011\n",
      "Epoch 7/100\n",
      "721/721 [==============================] - 0s 64us/step - loss: 1370.9178\n",
      "Epoch 8/100\n",
      "721/721 [==============================] - 0s 74us/step - loss: 1347.2962\n",
      "Epoch 9/100\n",
      "721/721 [==============================] - 0s 81us/step - loss: 1322.1003\n",
      "Epoch 10/100\n",
      "721/721 [==============================] - 0s 65us/step - loss: 1295.5454\n",
      "Epoch 11/100\n",
      "721/721 [==============================] - 0s 62us/step - loss: 1267.3264\n",
      "Epoch 12/100\n",
      "721/721 [==============================] - 0s 60us/step - loss: 1237.4841\n",
      "Epoch 13/100\n",
      "721/721 [==============================] - 0s 58us/step - loss: 1206.6936\n",
      "Epoch 14/100\n",
      "721/721 [==============================] - 0s 55us/step - loss: 1173.8758\n",
      "Epoch 15/100\n",
      "721/721 [==============================] - 0s 53us/step - loss: 1139.9326\n",
      "Epoch 16/100\n",
      "721/721 [==============================] - 0s 54us/step - loss: 1104.3684\n",
      "Epoch 17/100\n",
      "721/721 [==============================] - 0s 71us/step - loss: 1068.0514\n",
      "Epoch 18/100\n",
      "721/721 [==============================] - 0s 56us/step - loss: 1030.6444\n",
      "Epoch 19/100\n",
      "721/721 [==============================] - 0s 58us/step - loss: 992.8031\n",
      "Epoch 20/100\n",
      "721/721 [==============================] - 0s 55us/step - loss: 954.0584\n",
      "Epoch 21/100\n",
      "721/721 [==============================] - 0s 55us/step - loss: 915.4235\n",
      "Epoch 22/100\n",
      "721/721 [==============================] - 0s 57us/step - loss: 876.3986\n",
      "Epoch 23/100\n",
      "721/721 [==============================] - 0s 56us/step - loss: 837.8726\n",
      "Epoch 24/100\n",
      "721/721 [==============================] - 0s 53us/step - loss: 799.3438\n",
      "Epoch 25/100\n",
      "721/721 [==============================] - 0s 54us/step - loss: 761.3582\n",
      "Epoch 26/100\n",
      "721/721 [==============================] - 0s 69us/step - loss: 724.3514\n",
      "Epoch 27/100\n",
      "721/721 [==============================] - 0s 42us/step - loss: 688.0483\n",
      "Epoch 28/100\n",
      "721/721 [==============================] - 0s 59us/step - loss: 652.8317\n",
      "Epoch 29/100\n",
      "721/721 [==============================] - 0s 55us/step - loss: 618.4200\n",
      "Epoch 30/100\n",
      "721/721 [==============================] - 0s 57us/step - loss: 585.8610\n",
      "Epoch 31/100\n",
      "721/721 [==============================] - 0s 54us/step - loss: 554.4551\n",
      "Epoch 32/100\n",
      "721/721 [==============================] - 0s 55us/step - loss: 524.6308\n",
      "Epoch 33/100\n",
      "721/721 [==============================] - 0s 56us/step - loss: 496.1949\n",
      "Epoch 34/100\n",
      "721/721 [==============================] - 0s 57us/step - loss: 469.1268\n",
      "Epoch 35/100\n",
      "721/721 [==============================] - 0s 53us/step - loss: 443.8591\n",
      "Epoch 36/100\n",
      "721/721 [==============================] - 0s 57us/step - loss: 419.8610\n",
      "Epoch 37/100\n",
      "721/721 [==============================] - 0s 58us/step - loss: 397.8260\n",
      "Epoch 38/100\n",
      "721/721 [==============================] - 0s 55us/step - loss: 377.2599\n",
      "Epoch 39/100\n",
      "721/721 [==============================] - 0s 54us/step - loss: 358.1948\n",
      "Epoch 40/100\n",
      "721/721 [==============================] - 0s 42us/step - loss: 340.6234\n",
      "Epoch 41/100\n",
      "721/721 [==============================] - 0s 56us/step - loss: 324.3456\n",
      "Epoch 42/100\n",
      "721/721 [==============================] - 0s 54us/step - loss: 309.7875\n",
      "Epoch 43/100\n",
      "721/721 [==============================] - 0s 46us/step - loss: 296.0926\n",
      "Epoch 44/100\n",
      "721/721 [==============================] - 0s 57us/step - loss: 283.9969\n",
      "Epoch 45/100\n",
      "721/721 [==============================] - 0s 58us/step - loss: 272.7484\n",
      "Epoch 46/100\n",
      "721/721 [==============================] - 0s 53us/step - loss: 262.5774\n",
      "Epoch 47/100\n",
      "721/721 [==============================] - 0s 52us/step - loss: 253.6755\n",
      "Epoch 48/100\n",
      "721/721 [==============================] - 0s 57us/step - loss: 245.3233\n",
      "Epoch 49/100\n",
      "721/721 [==============================] - 0s 55us/step - loss: 237.9399\n",
      "Epoch 50/100\n",
      "721/721 [==============================] - 0s 59us/step - loss: 230.9361\n",
      "Epoch 51/100\n",
      "721/721 [==============================] - 0s 57us/step - loss: 225.0752\n",
      "Epoch 52/100\n",
      "721/721 [==============================] - 0s 52us/step - loss: 219.6118\n",
      "Epoch 53/100\n",
      "721/721 [==============================] - 0s 52us/step - loss: 214.5691\n",
      "Epoch 54/100\n",
      "721/721 [==============================] - 0s 54us/step - loss: 209.9359\n",
      "Epoch 55/100\n",
      "721/721 [==============================] - 0s 57us/step - loss: 205.9825\n",
      "Epoch 56/100\n",
      "721/721 [==============================] - 0s 57us/step - loss: 202.2160\n",
      "Epoch 57/100\n",
      "721/721 [==============================] - 0s 53us/step - loss: 198.8003\n",
      "Epoch 58/100\n",
      "721/721 [==============================] - 0s 59us/step - loss: 195.7581\n",
      "Epoch 59/100\n",
      "721/721 [==============================] - 0s 51us/step - loss: 192.8124\n",
      "Epoch 60/100\n",
      "721/721 [==============================] - 0s 54us/step - loss: 190.1061\n",
      "Epoch 61/100\n",
      "721/721 [==============================] - 0s 56us/step - loss: 187.5871\n",
      "Epoch 62/100\n",
      "721/721 [==============================] - 0s 58us/step - loss: 185.2836\n",
      "Epoch 63/100\n",
      "721/721 [==============================] - 0s 67us/step - loss: 183.0431\n",
      "Epoch 64/100\n",
      "721/721 [==============================] - 0s 57us/step - loss: 181.0270\n",
      "Epoch 65/100\n",
      "721/721 [==============================] - 0s 55us/step - loss: 179.0767\n",
      "Epoch 66/100\n",
      "721/721 [==============================] - 0s 56us/step - loss: 177.3053\n",
      "Epoch 67/100\n",
      "721/721 [==============================] - 0s 56us/step - loss: 175.4894\n",
      "Epoch 68/100\n",
      "721/721 [==============================] - 0s 55us/step - loss: 173.8392\n",
      "Epoch 69/100\n",
      "721/721 [==============================] - 0s 52us/step - loss: 172.2214\n",
      "Epoch 70/100\n",
      "721/721 [==============================] - 0s 56us/step - loss: 170.7265\n",
      "Epoch 71/100\n",
      "721/721 [==============================] - 0s 54us/step - loss: 169.2490\n",
      "Epoch 72/100\n",
      "721/721 [==============================] - 0s 55us/step - loss: 167.7904\n",
      "Epoch 73/100\n",
      "721/721 [==============================] - 0s 56us/step - loss: 166.3634\n",
      "Epoch 74/100\n",
      "721/721 [==============================] - 0s 62us/step - loss: 165.0495\n",
      "Epoch 75/100\n",
      "721/721 [==============================] - 0s 44us/step - loss: 163.7253\n",
      "Epoch 76/100\n",
      "721/721 [==============================] - 0s 41us/step - loss: 162.4398\n",
      "Epoch 77/100\n",
      "721/721 [==============================] - 0s 54us/step - loss: 161.1917\n",
      "Epoch 78/100\n",
      "721/721 [==============================] - 0s 51us/step - loss: 159.9851\n",
      "Epoch 79/100\n",
      "721/721 [==============================] - 0s 58us/step - loss: 158.8594\n",
      "Epoch 80/100\n",
      "721/721 [==============================] - 0s 56us/step - loss: 157.6365\n",
      "Epoch 81/100\n",
      "721/721 [==============================] - 0s 57us/step - loss: 156.4973\n",
      "Epoch 82/100\n",
      "721/721 [==============================] - 0s 51us/step - loss: 155.3813\n",
      "Epoch 83/100\n",
      "721/721 [==============================] - 0s 68us/step - loss: 154.3581\n",
      "Epoch 84/100\n",
      "721/721 [==============================] - 0s 55us/step - loss: 153.2203\n",
      "Epoch 85/100\n",
      "721/721 [==============================] - 0s 55us/step - loss: 152.1807\n",
      "Epoch 86/100\n",
      "721/721 [==============================] - 0s 56us/step - loss: 151.2345\n",
      "Epoch 87/100\n",
      "721/721 [==============================] - 0s 58us/step - loss: 150.1844\n",
      "Epoch 88/100\n",
      "721/721 [==============================] - 0s 54us/step - loss: 149.1927\n",
      "Epoch 89/100\n",
      "721/721 [==============================] - 0s 52us/step - loss: 148.1746\n",
      "Epoch 90/100\n",
      "721/721 [==============================] - 0s 56us/step - loss: 147.2299\n",
      "Epoch 91/100\n",
      "721/721 [==============================] - 0s 54us/step - loss: 146.2852\n",
      "Epoch 92/100\n",
      "721/721 [==============================] - 0s 110us/step - loss: 145.3300\n",
      "Epoch 93/100\n",
      "721/721 [==============================] - 0s 81us/step - loss: 144.4453\n",
      "Epoch 94/100\n",
      "721/721 [==============================] - 0s 55us/step - loss: 143.4600\n",
      "Epoch 95/100\n",
      "721/721 [==============================] - 0s 56us/step - loss: 142.5931\n",
      "Epoch 96/100\n",
      "721/721 [==============================] - 0s 53us/step - loss: 141.6694\n",
      "Epoch 97/100\n",
      "721/721 [==============================] - 0s 56us/step - loss: 140.8618\n",
      "Epoch 98/100\n",
      "721/721 [==============================] - 0s 57us/step - loss: 139.9416\n",
      "Epoch 99/100\n",
      "721/721 [==============================] - 0s 55us/step - loss: 139.1637\n",
      "Epoch 100/100\n",
      "721/721 [==============================] - 0s 60us/step - loss: 138.2491\n"
     ]
    },
    {
     "data": {
      "text/plain": [
       "<keras.callbacks.History at 0x7f6cbe17bc90>"
      ]
     },
     "execution_count": 12,
     "metadata": {},
     "output_type": "execute_result"
    }
   ],
   "source": [
    "model.fit(X_train, y_train, epochs=100, verbose=1)"
   ]
  },
  {
   "cell_type": "code",
   "execution_count": 13,
   "metadata": {
    "tags": []
   },
   "outputs": [
    {
     "name": "stdout",
     "output_type": "stream",
     "text": [
      "309/309 [==============================] - 0s 83us/step\n",
      "Loss value:  162.75750480577784\n"
     ]
    }
   ],
   "source": [
    "loss_val = model.evaluate(X_test, y_test)\n",
    "y_pred = model.predict(X_test)\n",
    "\n",
    "print(\"Loss value: \", loss_val)"
   ]
  },
  {
   "cell_type": "code",
   "execution_count": 14,
   "metadata": {
    "tags": []
   },
   "outputs": [
    {
     "name": "stdout",
     "output_type": "stream",
     "text": [
      "Mean squared error:  162.7575062564335\n",
      "Standard deviation:  0.0\n"
     ]
    }
   ],
   "source": [
    "mean_quared_error = np.mean(mean_squared_error(y_test, y_pred))\n",
    "print(\"Mean squared error: \", mean_quared_error)\n",
    "\n",
    "standard_deviation = np.std(mean_quared_error)\n",
    "print(\"Standard deviation: \", standard_deviation)"
   ]
  },
  {
   "cell_type": "code",
   "execution_count": 15,
   "metadata": {
    "tags": []
   },
   "outputs": [
    {
     "name": "stdout",
     "output_type": "stream",
     "text": [
      "Mean squared error:  185451.2764140173\n",
      "Mean squared error:  93638.10995512056\n",
      "Mean squared error:  49489.58950623073\n",
      "Mean squared error:  21096.440751100068\n",
      "Mean squared error:  9521.37752401446\n",
      "Mean squared error:  3880.28909726714\n",
      "Mean squared error:  2106.283579085377\n",
      "Mean squared error:  933.8486454971484\n",
      "Mean squared error:  414.31305242012417\n",
      "Mean squared error:  199.41437720514057\n",
      "Mean squared error:  124.55122223951184\n",
      "Mean squared error:  111.72621819099452\n",
      "Mean squared error:  114.29865555764529\n",
      "Mean squared error:  114.75389259875901\n",
      "Mean squared error:  145.10963194208858\n",
      "Mean squared error:  112.72334844709762\n",
      "Mean squared error:  104.51628272677753\n",
      "Mean squared error:  117.593965478017\n",
      "Mean squared error:  102.01928943493618\n",
      "Mean squared error:  117.90398481117639\n",
      "Mean squared error:  123.88890936896546\n",
      "Mean squared error:  121.77360212393742\n",
      "Mean squared error:  112.68306021148673\n",
      "Mean squared error:  121.23535413846373\n",
      "Mean squared error:  144.45458181313137\n",
      "Mean squared error:  102.87161311127879\n",
      "Mean squared error:  119.06887913516961\n",
      "Mean squared error:  110.54647003099703\n",
      "Mean squared error:  108.85048069533066\n",
      "Mean squared error:  127.4951693033801\n",
      "Mean squared error:  137.97622770232113\n",
      "Mean squared error:  132.8711749757774\n",
      "Mean squared error:  119.2237423490747\n",
      "Mean squared error:  114.76109201529546\n",
      "Mean squared error:  120.13558844088301\n",
      "Mean squared error:  124.85101423077208\n",
      "Mean squared error:  176.7448685605582\n",
      "Mean squared error:  123.67467537846946\n",
      "Mean squared error:  114.02070904004293\n",
      "Mean squared error:  106.3903234041742\n",
      "Mean squared error:  103.85657981908254\n",
      "Mean squared error:  113.80974772551696\n",
      "Mean squared error:  125.27814888378481\n",
      "Mean squared error:  126.37079669204452\n",
      "Mean squared error:  109.89080886313738\n",
      "Mean squared error:  118.91288838708991\n",
      "Mean squared error:  100.86864046555564\n",
      "Mean squared error:  154.76647005318662\n",
      "Mean squared error:  114.7044336775252\n",
      "Mean squared error:  107.6579479518109\n",
      "Mean:  7430.715467838667\n",
      "Standard deviation:  29463.738202483026\n"
     ]
    }
   ],
   "source": [
    "total_mean_squared_errors = 50\n",
    "epochs = 50\n",
    "mean_squared_errors = []\n",
    "\n",
    "for i in range(total_mean_squared_errors):\n",
    "  X_train, X_test, y_train, y_test = train_test_split(predictors, target, test_size=0.3)\n",
    "  model.fit(X_train, y_train, epochs=epochs, verbose=0)\n",
    "  y_pred = model.predict(X_test)\n",
    "  mean_squared_errors.append(mean_squared_error(y_test, y_pred))\n",
    "  print(\"Mean squared error: \", mean_squared_error(y_test, y_pred))\n",
    "\n",
    "mean_squared_errors = np.array(mean_squared_errors)\n",
    "mean = np.mean(mean_squared_errors)\n",
    "\n",
    "print(\"Mean: \", mean)\n",
    "\n",
    "standard_deviation = np.std(mean_squared_errors)\n",
    "print(\"Standard deviation: \", standard_deviation)"
   ]
  },
  {
   "cell_type": "code",
   "execution_count": null,
   "metadata": {},
   "outputs": [],
   "source": []
  }
 ],
 "metadata": {
  "kernelspec": {
   "display_name": "Python",
   "language": "python",
   "name": "conda-env-python-py"
  },
  "language_info": {
   "codemirror_mode": {
    "name": "ipython",
    "version": 3
   },
   "file_extension": ".py",
   "mimetype": "text/x-python",
   "name": "python",
   "nbconvert_exporter": "python",
   "pygments_lexer": "ipython3",
   "version": "3.7.12"
  }
 },
 "nbformat": 4,
 "nbformat_minor": 4
}
