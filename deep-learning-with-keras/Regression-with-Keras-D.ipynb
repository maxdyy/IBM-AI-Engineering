{
 "cells": [
  {
   "cell_type": "markdown",
   "metadata": {},
   "source": [
    "<h1 align=center><font size = 5>Regression Models with Keras</font></h1>\n"
   ]
  },
  {
   "cell_type": "markdown",
   "metadata": {},
   "source": [
    "D. Increase the number of hidden layers (5 marks)\n",
    "\n",
    "Repeat part B but use a neural network with the following instead:\n",
    "\n",
    "- Three hidden layers, each of 10 nodes and ReLU activation function."
   ]
  },
  {
   "cell_type": "code",
   "execution_count": null,
   "metadata": {},
   "outputs": [],
   "source": []
  },
  {
   "cell_type": "code",
   "execution_count": 2,
   "metadata": {
    "tags": []
   },
   "outputs": [],
   "source": [
    "import pandas as pd\n",
    "import numpy as np\n",
    "import keras\n",
    "from keras.models import Sequential\n",
    "from keras.layers import Dense\n",
    "from sklearn.model_selection import train_test_split\n",
    "from sklearn.metrics import mean_squared_error"
   ]
  },
  {
   "cell_type": "code",
   "execution_count": 3,
   "metadata": {
    "tags": []
   },
   "outputs": [],
   "source": [
    "concrete_data = pd.read_csv('https://s3-api.us-geo.objectstorage.softlayer.net/cf-courses-data/CognitiveClass/DL0101EN/labs/data/concrete_data.csv')"
   ]
  },
  {
   "cell_type": "code",
   "execution_count": 4,
   "metadata": {
    "tags": []
   },
   "outputs": [
    {
     "data": {
      "text/html": [
       "<div>\n",
       "<style scoped>\n",
       "    .dataframe tbody tr th:only-of-type {\n",
       "        vertical-align: middle;\n",
       "    }\n",
       "\n",
       "    .dataframe tbody tr th {\n",
       "        vertical-align: top;\n",
       "    }\n",
       "\n",
       "    .dataframe thead th {\n",
       "        text-align: right;\n",
       "    }\n",
       "</style>\n",
       "<table border=\"1\" class=\"dataframe\">\n",
       "  <thead>\n",
       "    <tr style=\"text-align: right;\">\n",
       "      <th></th>\n",
       "      <th>Cement</th>\n",
       "      <th>Blast Furnace Slag</th>\n",
       "      <th>Fly Ash</th>\n",
       "      <th>Water</th>\n",
       "      <th>Superplasticizer</th>\n",
       "      <th>Coarse Aggregate</th>\n",
       "      <th>Fine Aggregate</th>\n",
       "      <th>Age</th>\n",
       "      <th>Strength</th>\n",
       "    </tr>\n",
       "  </thead>\n",
       "  <tbody>\n",
       "    <tr>\n",
       "      <th>0</th>\n",
       "      <td>540.0</td>\n",
       "      <td>0.0</td>\n",
       "      <td>0.0</td>\n",
       "      <td>162.0</td>\n",
       "      <td>2.5</td>\n",
       "      <td>1040.0</td>\n",
       "      <td>676.0</td>\n",
       "      <td>28</td>\n",
       "      <td>79.99</td>\n",
       "    </tr>\n",
       "    <tr>\n",
       "      <th>1</th>\n",
       "      <td>540.0</td>\n",
       "      <td>0.0</td>\n",
       "      <td>0.0</td>\n",
       "      <td>162.0</td>\n",
       "      <td>2.5</td>\n",
       "      <td>1055.0</td>\n",
       "      <td>676.0</td>\n",
       "      <td>28</td>\n",
       "      <td>61.89</td>\n",
       "    </tr>\n",
       "    <tr>\n",
       "      <th>2</th>\n",
       "      <td>332.5</td>\n",
       "      <td>142.5</td>\n",
       "      <td>0.0</td>\n",
       "      <td>228.0</td>\n",
       "      <td>0.0</td>\n",
       "      <td>932.0</td>\n",
       "      <td>594.0</td>\n",
       "      <td>270</td>\n",
       "      <td>40.27</td>\n",
       "    </tr>\n",
       "    <tr>\n",
       "      <th>3</th>\n",
       "      <td>332.5</td>\n",
       "      <td>142.5</td>\n",
       "      <td>0.0</td>\n",
       "      <td>228.0</td>\n",
       "      <td>0.0</td>\n",
       "      <td>932.0</td>\n",
       "      <td>594.0</td>\n",
       "      <td>365</td>\n",
       "      <td>41.05</td>\n",
       "    </tr>\n",
       "    <tr>\n",
       "      <th>4</th>\n",
       "      <td>198.6</td>\n",
       "      <td>132.4</td>\n",
       "      <td>0.0</td>\n",
       "      <td>192.0</td>\n",
       "      <td>0.0</td>\n",
       "      <td>978.4</td>\n",
       "      <td>825.5</td>\n",
       "      <td>360</td>\n",
       "      <td>44.30</td>\n",
       "    </tr>\n",
       "  </tbody>\n",
       "</table>\n",
       "</div>"
      ],
      "text/plain": [
       "   Cement  Blast Furnace Slag  Fly Ash  Water  Superplasticizer  \\\n",
       "0   540.0                 0.0      0.0  162.0               2.5   \n",
       "1   540.0                 0.0      0.0  162.0               2.5   \n",
       "2   332.5               142.5      0.0  228.0               0.0   \n",
       "3   332.5               142.5      0.0  228.0               0.0   \n",
       "4   198.6               132.4      0.0  192.0               0.0   \n",
       "\n",
       "   Coarse Aggregate  Fine Aggregate  Age  Strength  \n",
       "0            1040.0           676.0   28     79.99  \n",
       "1            1055.0           676.0   28     61.89  \n",
       "2             932.0           594.0  270     40.27  \n",
       "3             932.0           594.0  365     41.05  \n",
       "4             978.4           825.5  360     44.30  "
      ]
     },
     "execution_count": 4,
     "metadata": {},
     "output_type": "execute_result"
    }
   ],
   "source": [
    "concrete_data.head()"
   ]
  },
  {
   "cell_type": "code",
   "execution_count": 5,
   "metadata": {
    "tags": []
   },
   "outputs": [
    {
     "data": {
      "text/html": [
       "<div>\n",
       "<style scoped>\n",
       "    .dataframe tbody tr th:only-of-type {\n",
       "        vertical-align: middle;\n",
       "    }\n",
       "\n",
       "    .dataframe tbody tr th {\n",
       "        vertical-align: top;\n",
       "    }\n",
       "\n",
       "    .dataframe thead th {\n",
       "        text-align: right;\n",
       "    }\n",
       "</style>\n",
       "<table border=\"1\" class=\"dataframe\">\n",
       "  <thead>\n",
       "    <tr style=\"text-align: right;\">\n",
       "      <th></th>\n",
       "      <th>Cement</th>\n",
       "      <th>Blast Furnace Slag</th>\n",
       "      <th>Fly Ash</th>\n",
       "      <th>Water</th>\n",
       "      <th>Superplasticizer</th>\n",
       "      <th>Coarse Aggregate</th>\n",
       "      <th>Fine Aggregate</th>\n",
       "      <th>Age</th>\n",
       "    </tr>\n",
       "  </thead>\n",
       "  <tbody>\n",
       "    <tr>\n",
       "      <th>0</th>\n",
       "      <td>2.476712</td>\n",
       "      <td>-0.856472</td>\n",
       "      <td>-0.846733</td>\n",
       "      <td>-0.916319</td>\n",
       "      <td>-0.620147</td>\n",
       "      <td>0.862735</td>\n",
       "      <td>-1.217079</td>\n",
       "      <td>-0.279597</td>\n",
       "    </tr>\n",
       "    <tr>\n",
       "      <th>1</th>\n",
       "      <td>2.476712</td>\n",
       "      <td>-0.856472</td>\n",
       "      <td>-0.846733</td>\n",
       "      <td>-0.916319</td>\n",
       "      <td>-0.620147</td>\n",
       "      <td>1.055651</td>\n",
       "      <td>-1.217079</td>\n",
       "      <td>-0.279597</td>\n",
       "    </tr>\n",
       "    <tr>\n",
       "      <th>2</th>\n",
       "      <td>0.491187</td>\n",
       "      <td>0.795140</td>\n",
       "      <td>-0.846733</td>\n",
       "      <td>2.174405</td>\n",
       "      <td>-1.038638</td>\n",
       "      <td>-0.526262</td>\n",
       "      <td>-2.239829</td>\n",
       "      <td>3.551340</td>\n",
       "    </tr>\n",
       "    <tr>\n",
       "      <th>3</th>\n",
       "      <td>0.491187</td>\n",
       "      <td>0.795140</td>\n",
       "      <td>-0.846733</td>\n",
       "      <td>2.174405</td>\n",
       "      <td>-1.038638</td>\n",
       "      <td>-0.526262</td>\n",
       "      <td>-2.239829</td>\n",
       "      <td>5.055221</td>\n",
       "    </tr>\n",
       "    <tr>\n",
       "      <th>4</th>\n",
       "      <td>-0.790075</td>\n",
       "      <td>0.678079</td>\n",
       "      <td>-0.846733</td>\n",
       "      <td>0.488555</td>\n",
       "      <td>-1.038638</td>\n",
       "      <td>0.070492</td>\n",
       "      <td>0.647569</td>\n",
       "      <td>4.976069</td>\n",
       "    </tr>\n",
       "  </tbody>\n",
       "</table>\n",
       "</div>"
      ],
      "text/plain": [
       "     Cement  Blast Furnace Slag   Fly Ash     Water  Superplasticizer  \\\n",
       "0  2.476712           -0.856472 -0.846733 -0.916319         -0.620147   \n",
       "1  2.476712           -0.856472 -0.846733 -0.916319         -0.620147   \n",
       "2  0.491187            0.795140 -0.846733  2.174405         -1.038638   \n",
       "3  0.491187            0.795140 -0.846733  2.174405         -1.038638   \n",
       "4 -0.790075            0.678079 -0.846733  0.488555         -1.038638   \n",
       "\n",
       "   Coarse Aggregate  Fine Aggregate       Age  \n",
       "0          0.862735       -1.217079 -0.279597  \n",
       "1          1.055651       -1.217079 -0.279597  \n",
       "2         -0.526262       -2.239829  3.551340  \n",
       "3         -0.526262       -2.239829  5.055221  \n",
       "4          0.070492        0.647569  4.976069  "
      ]
     },
     "execution_count": 5,
     "metadata": {},
     "output_type": "execute_result"
    }
   ],
   "source": [
    "predictors = concrete_data.iloc[:,0:8]\n",
    "target = concrete_data.iloc[:,8]\n",
    "predictors_normalized = (predictors - predictors.mean()) / predictors.std()\n",
    "\n",
    "predictors_normalized.head()"
   ]
  },
  {
   "cell_type": "code",
   "execution_count": 6,
   "metadata": {
    "tags": []
   },
   "outputs": [
    {
     "data": {
      "text/plain": [
       "0    79.99\n",
       "1    61.89\n",
       "2    40.27\n",
       "3    41.05\n",
       "4    44.30\n",
       "Name: Strength, dtype: float64"
      ]
     },
     "execution_count": 6,
     "metadata": {},
     "output_type": "execute_result"
    }
   ],
   "source": [
    "target.head()"
   ]
  },
  {
   "cell_type": "code",
   "execution_count": 7,
   "metadata": {
    "tags": []
   },
   "outputs": [],
   "source": [
    "# number of predictors\n",
    "n_cols = predictors.shape[1]\n",
    "\n",
    "# define regression model Three hidden layers, each of 10 nodes and ReLU activation function\n",
    "def regression_model():\n",
    "    # create model\n",
    "    model = Sequential()\n",
    "    model.add(Dense(10, activation='relu', input_shape=(n_cols,)))\n",
    "    model.add(Dense(10, activation='relu'))\n",
    "    model.add(Dense(10, activation='relu'))\n",
    "    model.add(Dense(1))\n",
    "\n",
    "    # compile model\n",
    "    model.compile(optimizer='adam', loss='mean_squared_error')\n",
    "    return model"
   ]
  },
  {
   "cell_type": "code",
   "execution_count": 8,
   "metadata": {
    "tags": []
   },
   "outputs": [
    {
     "name": "stdout",
     "output_type": "stream",
     "text": [
      "WARNING:tensorflow:From /home/jupyterlab/conda/envs/python/lib/python3.7/site-packages/keras/backend/tensorflow_backend.py:68: The name tf.get_default_graph is deprecated. Please use tf.compat.v1.get_default_graph instead.\n",
      "\n",
      "WARNING:tensorflow:From /home/jupyterlab/conda/envs/python/lib/python3.7/site-packages/keras/backend/tensorflow_backend.py:508: The name tf.placeholder is deprecated. Please use tf.compat.v1.placeholder instead.\n",
      "\n",
      "WARNING:tensorflow:From /home/jupyterlab/conda/envs/python/lib/python3.7/site-packages/keras/backend/tensorflow_backend.py:3837: The name tf.random_uniform is deprecated. Please use tf.random.uniform instead.\n",
      "\n",
      "WARNING:tensorflow:From /home/jupyterlab/conda/envs/python/lib/python3.7/site-packages/keras/optimizers.py:757: The name tf.train.Optimizer is deprecated. Please use tf.compat.v1.train.Optimizer instead.\n",
      "\n"
     ]
    }
   ],
   "source": [
    "# model summary\n",
    "model = regression_model()"
   ]
  },
  {
   "cell_type": "code",
   "execution_count": 9,
   "metadata": {
    "tags": []
   },
   "outputs": [],
   "source": [
    "X_train, X_test, y_train, y_test = train_test_split(predictors_normalized, target, test_size=0.3)"
   ]
  },
  {
   "cell_type": "code",
   "execution_count": 10,
   "metadata": {
    "tags": []
   },
   "outputs": [
    {
     "name": "stdout",
     "output_type": "stream",
     "text": [
      "WARNING:tensorflow:From /home/jupyterlab/conda/envs/python/lib/python3.7/site-packages/keras/backend/tensorflow_backend.py:977: The name tf.assign_add is deprecated. Please use tf.compat.v1.assign_add instead.\n",
      "\n",
      "WARNING:tensorflow:From /home/jupyterlab/conda/envs/python/lib/python3.7/site-packages/keras/backend/tensorflow_backend.py:964: The name tf.assign is deprecated. Please use tf.compat.v1.assign instead.\n",
      "\n",
      "Epoch 1/50\n"
     ]
    },
    {
     "name": "stderr",
     "output_type": "stream",
     "text": [
      "2023-07-06 15:05:34.538892: I tensorflow/core/platform/cpu_feature_guard.cc:142] Your CPU supports instructions that this TensorFlow binary was not compiled to use: SSE4.1 SSE4.2 AVX AVX2 AVX512F FMA\n",
      "2023-07-06 15:05:34.550880: I tensorflow/core/platform/profile_utils/cpu_utils.cc:94] CPU Frequency: 2494060000 Hz\n",
      "2023-07-06 15:05:34.551726: I tensorflow/compiler/xla/service/service.cc:168] XLA service 0x55decc7cef40 executing computations on platform Host. Devices:\n",
      "2023-07-06 15:05:34.551783: I tensorflow/compiler/xla/service/service.cc:175]   StreamExecutor device (0): <undefined>, <undefined>\n",
      "2023-07-06 15:05:34.675189: W tensorflow/compiler/jit/mark_for_compilation_pass.cc:1412] (One-time warning): Not using XLA:CPU for cluster because envvar TF_XLA_FLAGS=--tf_xla_cpu_global_jit was not set.  If you want XLA:CPU, either set that envvar, or use experimental_jit_scope to enable XLA:CPU.  To confirm that XLA is active, pass --vmodule=xla_compilation_cache=1 (as a proper command-line flag, not via TF_XLA_FLAGS) or set the envvar XLA_FLAGS=--xla_hlo_profile.\n"
     ]
    },
    {
     "name": "stdout",
     "output_type": "stream",
     "text": [
      "721/721 [==============================] - 0s 544us/step - loss: 1556.7543\n",
      "Epoch 2/50\n",
      "721/721 [==============================] - 0s 132us/step - loss: 1543.4029\n",
      "Epoch 3/50\n",
      "721/721 [==============================] - 0s 113us/step - loss: 1520.0152\n",
      "Epoch 4/50\n",
      "721/721 [==============================] - 0s 134us/step - loss: 1473.8450\n",
      "Epoch 5/50\n",
      "721/721 [==============================] - 0s 142us/step - loss: 1395.1132\n",
      "Epoch 6/50\n",
      "721/721 [==============================] - 0s 129us/step - loss: 1270.9590\n",
      "Epoch 7/50\n",
      "721/721 [==============================] - 0s 115us/step - loss: 1089.0891\n",
      "Epoch 8/50\n",
      "721/721 [==============================] - 0s 106us/step - loss: 855.2972\n",
      "Epoch 9/50\n",
      "721/721 [==============================] - 0s 89us/step - loss: 599.2917\n",
      "Epoch 10/50\n",
      "721/721 [==============================] - 0s 104us/step - loss: 393.4145\n",
      "Epoch 11/50\n",
      "721/721 [==============================] - 0s 90us/step - loss: 279.0170\n",
      "Epoch 12/50\n",
      "721/721 [==============================] - 0s 81us/step - loss: 239.7063\n",
      "Epoch 13/50\n",
      "721/721 [==============================] - 0s 104us/step - loss: 223.4929\n",
      "Epoch 14/50\n",
      "721/721 [==============================] - 0s 86us/step - loss: 212.4330\n",
      "Epoch 15/50\n",
      "721/721 [==============================] - 0s 102us/step - loss: 203.2417\n",
      "Epoch 16/50\n",
      "721/721 [==============================] - 0s 89us/step - loss: 195.6884\n",
      "Epoch 17/50\n",
      "721/721 [==============================] - 0s 84us/step - loss: 189.0889\n",
      "Epoch 18/50\n",
      "721/721 [==============================] - 0s 83us/step - loss: 183.6699\n",
      "Epoch 19/50\n",
      "721/721 [==============================] - 0s 102us/step - loss: 178.7236\n",
      "Epoch 20/50\n",
      "721/721 [==============================] - 0s 86us/step - loss: 174.9851\n",
      "Epoch 21/50\n",
      "721/721 [==============================] - 0s 87us/step - loss: 170.7530\n",
      "Epoch 22/50\n",
      "721/721 [==============================] - 0s 104us/step - loss: 166.9374\n",
      "Epoch 23/50\n",
      "721/721 [==============================] - 0s 87us/step - loss: 163.8251\n",
      "Epoch 24/50\n",
      "721/721 [==============================] - 0s 84us/step - loss: 160.5983\n",
      "Epoch 25/50\n",
      "721/721 [==============================] - 0s 91us/step - loss: 157.8332\n",
      "Epoch 26/50\n",
      "721/721 [==============================] - 0s 103us/step - loss: 155.5201\n",
      "Epoch 27/50\n",
      "721/721 [==============================] - 0s 86us/step - loss: 153.6777\n",
      "Epoch 28/50\n",
      "721/721 [==============================] - 0s 106us/step - loss: 151.8934\n",
      "Epoch 29/50\n",
      "721/721 [==============================] - 0s 87us/step - loss: 149.8787\n",
      "Epoch 30/50\n",
      "721/721 [==============================] - 0s 86us/step - loss: 148.5549\n",
      "Epoch 31/50\n",
      "721/721 [==============================] - 0s 85us/step - loss: 147.8660\n",
      "Epoch 32/50\n",
      "721/721 [==============================] - 0s 87us/step - loss: 145.2763\n",
      "Epoch 33/50\n",
      "721/721 [==============================] - 0s 106us/step - loss: 144.2631\n",
      "Epoch 34/50\n",
      "721/721 [==============================] - 0s 88us/step - loss: 142.8571\n",
      "Epoch 35/50\n",
      "721/721 [==============================] - 0s 88us/step - loss: 141.9318\n",
      "Epoch 36/50\n",
      "721/721 [==============================] - 0s 99us/step - loss: 140.8088\n",
      "Epoch 37/50\n",
      "721/721 [==============================] - 0s 116us/step - loss: 139.7317\n",
      "Epoch 38/50\n",
      "721/721 [==============================] - 0s 166us/step - loss: 138.7754\n",
      "Epoch 39/50\n",
      "721/721 [==============================] - 0s 87us/step - loss: 137.8077\n",
      "Epoch 40/50\n",
      "721/721 [==============================] - 0s 84us/step - loss: 137.2767\n",
      "Epoch 41/50\n",
      "721/721 [==============================] - 0s 100us/step - loss: 136.0016\n",
      "Epoch 42/50\n",
      "721/721 [==============================] - 0s 86us/step - loss: 135.2386\n",
      "Epoch 43/50\n",
      "721/721 [==============================] - 0s 88us/step - loss: 134.9565\n",
      "Epoch 44/50\n",
      "721/721 [==============================] - 0s 89us/step - loss: 133.5884\n",
      "Epoch 45/50\n",
      "721/721 [==============================] - 0s 87us/step - loss: 132.8563\n",
      "Epoch 46/50\n",
      "721/721 [==============================] - 0s 108us/step - loss: 131.9161\n",
      "Epoch 47/50\n",
      "721/721 [==============================] - 0s 105us/step - loss: 131.4347\n",
      "Epoch 48/50\n",
      "721/721 [==============================] - 0s 109us/step - loss: 130.3644\n",
      "Epoch 49/50\n",
      "721/721 [==============================] - 0s 87us/step - loss: 129.8135\n",
      "Epoch 50/50\n",
      "721/721 [==============================] - 0s 101us/step - loss: 129.0930\n"
     ]
    },
    {
     "data": {
      "text/plain": [
       "<keras.callbacks.History at 0x7fb001845350>"
      ]
     },
     "execution_count": 10,
     "metadata": {},
     "output_type": "execute_result"
    }
   ],
   "source": [
    "model.fit(X_train, y_train, epochs=50, verbose=1)"
   ]
  },
  {
   "cell_type": "code",
   "execution_count": 11,
   "metadata": {
    "tags": []
   },
   "outputs": [
    {
     "name": "stdout",
     "output_type": "stream",
     "text": [
      "309/309 [==============================] - 0s 92us/step\n",
      "Loss value:  135.8925421754905\n"
     ]
    }
   ],
   "source": [
    "loss_val = model.evaluate(X_test, y_test)\n",
    "y_pred = model.predict(X_test)\n",
    "\n",
    "print(\"Loss value: \", loss_val)"
   ]
  },
  {
   "cell_type": "code",
   "execution_count": 12,
   "metadata": {
    "tags": []
   },
   "outputs": [
    {
     "name": "stdout",
     "output_type": "stream",
     "text": [
      "Mean squared error:  135.89253196385903\n",
      "Standard deviation:  0.0\n"
     ]
    }
   ],
   "source": [
    "mean_quared_error = np.mean(mean_squared_error(y_test, y_pred))\n",
    "print(\"Mean squared error: \", mean_quared_error)\n",
    "\n",
    "standard_deviation = np.std(mean_quared_error)\n",
    "print(\"Standard deviation: \", standard_deviation)"
   ]
  },
  {
   "cell_type": "code",
   "execution_count": 13,
   "metadata": {
    "tags": []
   },
   "outputs": [
    {
     "name": "stdout",
     "output_type": "stream",
     "text": [
      "Mean squared error:  1090.5876137889843\n",
      "Mean squared error:  539.7721566502298\n",
      "Mean squared error:  319.95861279606214\n",
      "Mean squared error:  214.48318627419818\n",
      "Mean squared error:  204.89899663341416\n",
      "Mean squared error:  201.30157171540685\n",
      "Mean squared error:  156.19776829085714\n",
      "Mean squared error:  137.60434812376897\n",
      "Mean squared error:  142.0295148434518\n",
      "Mean squared error:  112.57519057556188\n",
      "Mean squared error:  117.35513395078108\n",
      "Mean squared error:  118.3457153775915\n",
      "Mean squared error:  124.41713644077902\n",
      "Mean squared error:  111.50876766058158\n",
      "Mean squared error:  128.42589200532572\n",
      "Mean squared error:  133.25991579790568\n",
      "Mean squared error:  83.78574905712995\n",
      "Mean squared error:  68.32498890032724\n",
      "Mean squared error:  48.71590497957428\n",
      "Mean squared error:  60.004888730913315\n",
      "Mean squared error:  62.43579169346229\n",
      "Mean squared error:  60.441395575848766\n",
      "Mean squared error:  41.31661859942431\n",
      "Mean squared error:  51.55414232761812\n",
      "Mean squared error:  47.10870591328007\n",
      "Mean squared error:  41.566487018919595\n",
      "Mean squared error:  49.35337644637929\n",
      "Mean squared error:  47.51272902370148\n",
      "Mean squared error:  45.93911653204121\n",
      "Mean squared error:  44.2535585299631\n",
      "Mean squared error:  58.3959966716413\n",
      "Mean squared error:  46.614578385952576\n",
      "Mean squared error:  49.749639453468795\n",
      "Mean squared error:  46.57463447539253\n",
      "Mean squared error:  49.661370586924164\n",
      "Mean squared error:  44.70523209324347\n",
      "Mean squared error:  52.027430810576874\n",
      "Mean squared error:  65.19470476897241\n",
      "Mean squared error:  51.43032361048193\n",
      "Mean squared error:  47.67226928185076\n",
      "Mean squared error:  56.4557952623386\n",
      "Mean squared error:  49.04948726193189\n",
      "Mean squared error:  50.02689608002431\n",
      "Mean squared error:  44.67324902924535\n",
      "Mean squared error:  46.82946770874612\n",
      "Mean squared error:  55.13011163863044\n",
      "Mean squared error:  42.86901753930188\n",
      "Mean squared error:  50.80494033357335\n",
      "Mean squared error:  52.20927083691685\n",
      "Mean squared error:  42.891710422061934\n",
      "Mean:  112.16002201009516\n",
      "Standard deviation:  163.82358608399255\n"
     ]
    }
   ],
   "source": [
    "total_mean_squared_errors = 50\n",
    "epochs = 50\n",
    "mean_squared_errors = []\n",
    "\n",
    "for i in range(total_mean_squared_errors):\n",
    "  X_train, X_test, y_train, y_test = train_test_split(predictors, target, test_size=0.3)\n",
    "  model.fit(X_train, y_train, epochs=epochs, verbose=0)\n",
    "  y_pred = model.predict(X_test)\n",
    "  mean_squared_errors.append(mean_squared_error(y_test, y_pred))\n",
    "  print(\"Mean squared error: \", mean_squared_error(y_test, y_pred))\n",
    "\n",
    "mean_squared_errors = np.array(mean_squared_errors)\n",
    "mean = np.mean(mean_squared_errors)\n",
    "\n",
    "print(\"Mean: \", mean)\n",
    "\n",
    "standard_deviation = np.std(mean_squared_errors)\n",
    "print(\"Standard deviation: \", standard_deviation)"
   ]
  },
  {
   "cell_type": "code",
   "execution_count": null,
   "metadata": {},
   "outputs": [],
   "source": []
  }
 ],
 "metadata": {
  "kernelspec": {
   "display_name": "Python",
   "language": "python",
   "name": "conda-env-python-py"
  },
  "language_info": {
   "codemirror_mode": {
    "name": "ipython",
    "version": 3
   },
   "file_extension": ".py",
   "mimetype": "text/x-python",
   "name": "python",
   "nbconvert_exporter": "python",
   "pygments_lexer": "ipython3",
   "version": "3.7.12"
  }
 },
 "nbformat": 4,
 "nbformat_minor": 4
}
