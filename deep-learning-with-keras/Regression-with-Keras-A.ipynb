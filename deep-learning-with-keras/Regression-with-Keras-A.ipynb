{
 "cells": [
  {
   "cell_type": "markdown",
   "metadata": {},
   "source": [
    "<h1 align=center><font size = 5>Regression Models with Keras</font></h1>\n"
   ]
  },
  {
   "cell_type": "markdown",
   "metadata": {},
   "source": [
    "A. Build a baseline model (5 marks) \n",
    "\n",
    "Use the Keras library to build a neural network with the following:\n",
    "\n",
    "- One hidden layer of 10 nodes, and a ReLU activation function\n",
    "\n",
    "- Use the adam optimizer and the mean squared error  as the loss function.\n",
    "\n",
    "1. Randomly split the data into a training and test sets by holding 30% of the data for testing. You can use the train_test_split helper function from Scikit-learn.\n",
    "\n",
    "2. Train the model on the training data using 50 epochs.\n",
    "\n",
    "3. Evaluate the model on the test data and compute the mean squared error between the predicted concrete strength and the actual concrete strength. You can use the mean_squared_error function from Scikit-learn.\n",
    "\n",
    "4. Repeat steps 1 - 3, 50 times, i.e., create a list of 50 mean squared errors.\n",
    "\n",
    "5. Report the mean and the standard deviation of the mean squared errors."
   ]
  },
  {
   "cell_type": "code",
   "execution_count": null,
   "metadata": {},
   "outputs": [],
   "source": []
  },
  {
   "cell_type": "code",
   "execution_count": 45,
   "metadata": {
    "tags": []
   },
   "outputs": [],
   "source": [
    "import pandas as pd\n",
    "import numpy as np\n",
    "import keras\n",
    "from keras.models import Sequential\n",
    "from keras.layers import Dense\n",
    "from sklearn.model_selection import train_test_split\n",
    "from sklearn.metrics import mean_squared_error"
   ]
  },
  {
   "cell_type": "code",
   "execution_count": 36,
   "metadata": {
    "tags": []
   },
   "outputs": [],
   "source": [
    "concrete_data = pd.read_csv('https://s3-api.us-geo.objectstorage.softlayer.net/cf-courses-data/CognitiveClass/DL0101EN/labs/data/concrete_data.csv')"
   ]
  },
  {
   "cell_type": "code",
   "execution_count": 38,
   "metadata": {
    "tags": []
   },
   "outputs": [
    {
     "data": {
      "text/html": [
       "<div>\n",
       "<style scoped>\n",
       "    .dataframe tbody tr th:only-of-type {\n",
       "        vertical-align: middle;\n",
       "    }\n",
       "\n",
       "    .dataframe tbody tr th {\n",
       "        vertical-align: top;\n",
       "    }\n",
       "\n",
       "    .dataframe thead th {\n",
       "        text-align: right;\n",
       "    }\n",
       "</style>\n",
       "<table border=\"1\" class=\"dataframe\">\n",
       "  <thead>\n",
       "    <tr style=\"text-align: right;\">\n",
       "      <th></th>\n",
       "      <th>Cement</th>\n",
       "      <th>Blast Furnace Slag</th>\n",
       "      <th>Fly Ash</th>\n",
       "      <th>Water</th>\n",
       "      <th>Superplasticizer</th>\n",
       "      <th>Coarse Aggregate</th>\n",
       "      <th>Fine Aggregate</th>\n",
       "      <th>Age</th>\n",
       "      <th>Strength</th>\n",
       "    </tr>\n",
       "  </thead>\n",
       "  <tbody>\n",
       "    <tr>\n",
       "      <th>0</th>\n",
       "      <td>540.0</td>\n",
       "      <td>0.0</td>\n",
       "      <td>0.0</td>\n",
       "      <td>162.0</td>\n",
       "      <td>2.5</td>\n",
       "      <td>1040.0</td>\n",
       "      <td>676.0</td>\n",
       "      <td>28</td>\n",
       "      <td>79.99</td>\n",
       "    </tr>\n",
       "    <tr>\n",
       "      <th>1</th>\n",
       "      <td>540.0</td>\n",
       "      <td>0.0</td>\n",
       "      <td>0.0</td>\n",
       "      <td>162.0</td>\n",
       "      <td>2.5</td>\n",
       "      <td>1055.0</td>\n",
       "      <td>676.0</td>\n",
       "      <td>28</td>\n",
       "      <td>61.89</td>\n",
       "    </tr>\n",
       "    <tr>\n",
       "      <th>2</th>\n",
       "      <td>332.5</td>\n",
       "      <td>142.5</td>\n",
       "      <td>0.0</td>\n",
       "      <td>228.0</td>\n",
       "      <td>0.0</td>\n",
       "      <td>932.0</td>\n",
       "      <td>594.0</td>\n",
       "      <td>270</td>\n",
       "      <td>40.27</td>\n",
       "    </tr>\n",
       "    <tr>\n",
       "      <th>3</th>\n",
       "      <td>332.5</td>\n",
       "      <td>142.5</td>\n",
       "      <td>0.0</td>\n",
       "      <td>228.0</td>\n",
       "      <td>0.0</td>\n",
       "      <td>932.0</td>\n",
       "      <td>594.0</td>\n",
       "      <td>365</td>\n",
       "      <td>41.05</td>\n",
       "    </tr>\n",
       "    <tr>\n",
       "      <th>4</th>\n",
       "      <td>198.6</td>\n",
       "      <td>132.4</td>\n",
       "      <td>0.0</td>\n",
       "      <td>192.0</td>\n",
       "      <td>0.0</td>\n",
       "      <td>978.4</td>\n",
       "      <td>825.5</td>\n",
       "      <td>360</td>\n",
       "      <td>44.30</td>\n",
       "    </tr>\n",
       "  </tbody>\n",
       "</table>\n",
       "</div>"
      ],
      "text/plain": [
       "   Cement  Blast Furnace Slag  Fly Ash  Water  Superplasticizer  \\\n",
       "0   540.0                 0.0      0.0  162.0               2.5   \n",
       "1   540.0                 0.0      0.0  162.0               2.5   \n",
       "2   332.5               142.5      0.0  228.0               0.0   \n",
       "3   332.5               142.5      0.0  228.0               0.0   \n",
       "4   198.6               132.4      0.0  192.0               0.0   \n",
       "\n",
       "   Coarse Aggregate  Fine Aggregate  Age  Strength  \n",
       "0            1040.0           676.0   28     79.99  \n",
       "1            1055.0           676.0   28     61.89  \n",
       "2             932.0           594.0  270     40.27  \n",
       "3             932.0           594.0  365     41.05  \n",
       "4             978.4           825.5  360     44.30  "
      ]
     },
     "execution_count": 38,
     "metadata": {},
     "output_type": "execute_result"
    }
   ],
   "source": [
    "concrete_data.head()"
   ]
  },
  {
   "cell_type": "code",
   "execution_count": 39,
   "metadata": {
    "tags": []
   },
   "outputs": [
    {
     "data": {
      "text/html": [
       "<div>\n",
       "<style scoped>\n",
       "    .dataframe tbody tr th:only-of-type {\n",
       "        vertical-align: middle;\n",
       "    }\n",
       "\n",
       "    .dataframe tbody tr th {\n",
       "        vertical-align: top;\n",
       "    }\n",
       "\n",
       "    .dataframe thead th {\n",
       "        text-align: right;\n",
       "    }\n",
       "</style>\n",
       "<table border=\"1\" class=\"dataframe\">\n",
       "  <thead>\n",
       "    <tr style=\"text-align: right;\">\n",
       "      <th></th>\n",
       "      <th>Cement</th>\n",
       "      <th>Blast Furnace Slag</th>\n",
       "      <th>Fly Ash</th>\n",
       "      <th>Water</th>\n",
       "      <th>Superplasticizer</th>\n",
       "      <th>Coarse Aggregate</th>\n",
       "      <th>Fine Aggregate</th>\n",
       "      <th>Age</th>\n",
       "    </tr>\n",
       "  </thead>\n",
       "  <tbody>\n",
       "    <tr>\n",
       "      <th>0</th>\n",
       "      <td>540.0</td>\n",
       "      <td>0.0</td>\n",
       "      <td>0.0</td>\n",
       "      <td>162.0</td>\n",
       "      <td>2.5</td>\n",
       "      <td>1040.0</td>\n",
       "      <td>676.0</td>\n",
       "      <td>28</td>\n",
       "    </tr>\n",
       "    <tr>\n",
       "      <th>1</th>\n",
       "      <td>540.0</td>\n",
       "      <td>0.0</td>\n",
       "      <td>0.0</td>\n",
       "      <td>162.0</td>\n",
       "      <td>2.5</td>\n",
       "      <td>1055.0</td>\n",
       "      <td>676.0</td>\n",
       "      <td>28</td>\n",
       "    </tr>\n",
       "    <tr>\n",
       "      <th>2</th>\n",
       "      <td>332.5</td>\n",
       "      <td>142.5</td>\n",
       "      <td>0.0</td>\n",
       "      <td>228.0</td>\n",
       "      <td>0.0</td>\n",
       "      <td>932.0</td>\n",
       "      <td>594.0</td>\n",
       "      <td>270</td>\n",
       "    </tr>\n",
       "    <tr>\n",
       "      <th>3</th>\n",
       "      <td>332.5</td>\n",
       "      <td>142.5</td>\n",
       "      <td>0.0</td>\n",
       "      <td>228.0</td>\n",
       "      <td>0.0</td>\n",
       "      <td>932.0</td>\n",
       "      <td>594.0</td>\n",
       "      <td>365</td>\n",
       "    </tr>\n",
       "    <tr>\n",
       "      <th>4</th>\n",
       "      <td>198.6</td>\n",
       "      <td>132.4</td>\n",
       "      <td>0.0</td>\n",
       "      <td>192.0</td>\n",
       "      <td>0.0</td>\n",
       "      <td>978.4</td>\n",
       "      <td>825.5</td>\n",
       "      <td>360</td>\n",
       "    </tr>\n",
       "  </tbody>\n",
       "</table>\n",
       "</div>"
      ],
      "text/plain": [
       "   Cement  Blast Furnace Slag  Fly Ash  Water  Superplasticizer  \\\n",
       "0   540.0                 0.0      0.0  162.0               2.5   \n",
       "1   540.0                 0.0      0.0  162.0               2.5   \n",
       "2   332.5               142.5      0.0  228.0               0.0   \n",
       "3   332.5               142.5      0.0  228.0               0.0   \n",
       "4   198.6               132.4      0.0  192.0               0.0   \n",
       "\n",
       "   Coarse Aggregate  Fine Aggregate  Age  \n",
       "0            1040.0           676.0   28  \n",
       "1            1055.0           676.0   28  \n",
       "2             932.0           594.0  270  \n",
       "3             932.0           594.0  365  \n",
       "4             978.4           825.5  360  "
      ]
     },
     "execution_count": 39,
     "metadata": {},
     "output_type": "execute_result"
    }
   ],
   "source": [
    "predictors = concrete_data.iloc[:,0:8]\n",
    "target = concrete_data.iloc[:,8]\n",
    "\n",
    "predictors.head()"
   ]
  },
  {
   "cell_type": "code",
   "execution_count": 40,
   "metadata": {
    "tags": []
   },
   "outputs": [
    {
     "data": {
      "text/plain": [
       "0    79.99\n",
       "1    61.89\n",
       "2    40.27\n",
       "3    41.05\n",
       "4    44.30\n",
       "Name: Strength, dtype: float64"
      ]
     },
     "execution_count": 40,
     "metadata": {},
     "output_type": "execute_result"
    }
   ],
   "source": [
    "target.head()"
   ]
  },
  {
   "cell_type": "code",
   "execution_count": 41,
   "metadata": {
    "tags": []
   },
   "outputs": [],
   "source": [
    "# number of predictors\n",
    "n_cols = predictors.shape[1]\n",
    "\n",
    "# define regression model\n",
    "def regression_model():\n",
    "  # create model\n",
    "  model = Sequential()\n",
    "  model.add(Dense(10, activation='relu', input_shape=(n_cols,)))\n",
    "  model.add(Dense(1))\n",
    "\n",
    "  # compile model\n",
    "  model.compile(optimizer='adam', loss='mean_squared_error')\n",
    "  return model"
   ]
  },
  {
   "cell_type": "code",
   "execution_count": 42,
   "metadata": {
    "tags": []
   },
   "outputs": [],
   "source": [
    "# model summary\n",
    "model = regression_model()"
   ]
  },
  {
   "cell_type": "code",
   "execution_count": 43,
   "metadata": {
    "tags": []
   },
   "outputs": [],
   "source": [
    "X_train, X_test, y_train, y_test = train_test_split(predictors, target, test_size=0.3)"
   ]
  },
  {
   "cell_type": "code",
   "execution_count": 44,
   "metadata": {
    "tags": []
   },
   "outputs": [
    {
     "name": "stdout",
     "output_type": "stream",
     "text": [
      "Epoch 1/50\n",
      "721/721 [==============================] - 0s 309us/step - loss: 288583.2373\n",
      "Epoch 2/50\n",
      "721/721 [==============================] - 0s 86us/step - loss: 199455.6649\n",
      "Epoch 3/50\n",
      "721/721 [==============================] - 0s 89us/step - loss: 133138.8587\n",
      "Epoch 4/50\n",
      "721/721 [==============================] - 0s 108us/step - loss: 85792.0599\n",
      "Epoch 5/50\n",
      "721/721 [==============================] - 0s 110us/step - loss: 52957.9015\n",
      "Epoch 6/50\n",
      "721/721 [==============================] - 0s 87us/step - loss: 30879.0217\n",
      "Epoch 7/50\n",
      "721/721 [==============================] - 0s 79us/step - loss: 17135.4711\n",
      "Epoch 8/50\n",
      "721/721 [==============================] - 0s 62us/step - loss: 9408.7333\n",
      "Epoch 9/50\n",
      "721/721 [==============================] - 0s 63us/step - loss: 5520.6740\n",
      "Epoch 10/50\n",
      "721/721 [==============================] - 0s 61us/step - loss: 3771.8232\n",
      "Epoch 11/50\n",
      "721/721 [==============================] - 0s 73us/step - loss: 3103.7648\n",
      "Epoch 12/50\n",
      "721/721 [==============================] - 0s 60us/step - loss: 2826.7873\n",
      "Epoch 13/50\n",
      "721/721 [==============================] - 0s 73us/step - loss: 2702.4644\n",
      "Epoch 14/50\n",
      "721/721 [==============================] - 0s 62us/step - loss: 2623.9445\n",
      "Epoch 15/50\n",
      "721/721 [==============================] - 0s 60us/step - loss: 2553.1228\n",
      "Epoch 16/50\n",
      "721/721 [==============================] - 0s 57us/step - loss: 2483.9211\n",
      "Epoch 17/50\n",
      "721/721 [==============================] - 0s 57us/step - loss: 2415.2659\n",
      "Epoch 18/50\n",
      "721/721 [==============================] - 0s 57us/step - loss: 2348.0758\n",
      "Epoch 19/50\n",
      "721/721 [==============================] - 0s 57us/step - loss: 2281.2986\n",
      "Epoch 20/50\n",
      "721/721 [==============================] - 0s 58us/step - loss: 2214.7733\n",
      "Epoch 21/50\n",
      "721/721 [==============================] - 0s 56us/step - loss: 2148.6744\n",
      "Epoch 22/50\n",
      "721/721 [==============================] - 0s 70us/step - loss: 2079.4393\n",
      "Epoch 23/50\n",
      "721/721 [==============================] - 0s 57us/step - loss: 2015.5959\n",
      "Epoch 24/50\n",
      "721/721 [==============================] - 0s 56us/step - loss: 1953.1548\n",
      "Epoch 25/50\n",
      "721/721 [==============================] - 0s 52us/step - loss: 1888.8622\n",
      "Epoch 26/50\n",
      "721/721 [==============================] - 0s 57us/step - loss: 1825.9572\n",
      "Epoch 27/50\n",
      "721/721 [==============================] - 0s 57us/step - loss: 1766.1036\n",
      "Epoch 28/50\n",
      "721/721 [==============================] - 0s 61us/step - loss: 1711.1226\n",
      "Epoch 29/50\n",
      "721/721 [==============================] - 0s 55us/step - loss: 1649.4954\n",
      "Epoch 30/50\n",
      "721/721 [==============================] - 0s 57us/step - loss: 1593.4967\n",
      "Epoch 31/50\n",
      "721/721 [==============================] - 0s 53us/step - loss: 1539.0250\n",
      "Epoch 32/50\n",
      "721/721 [==============================] - 0s 55us/step - loss: 1484.9802\n",
      "Epoch 33/50\n",
      "721/721 [==============================] - 0s 55us/step - loss: 1433.3939\n",
      "Epoch 34/50\n",
      "721/721 [==============================] - 0s 56us/step - loss: 1383.4530\n",
      "Epoch 35/50\n",
      "721/721 [==============================] - 0s 55us/step - loss: 1333.5966\n",
      "Epoch 36/50\n",
      "721/721 [==============================] - 0s 55us/step - loss: 1286.1109\n",
      "Epoch 37/50\n",
      "721/721 [==============================] - 0s 56us/step - loss: 1240.4750\n",
      "Epoch 38/50\n",
      "721/721 [==============================] - 0s 54us/step - loss: 1196.1597\n",
      "Epoch 39/50\n",
      "721/721 [==============================] - 0s 55us/step - loss: 1155.0332\n",
      "Epoch 40/50\n",
      "721/721 [==============================] - 0s 53us/step - loss: 1113.6204\n",
      "Epoch 41/50\n",
      "721/721 [==============================] - 0s 58us/step - loss: 1073.2773\n",
      "Epoch 42/50\n",
      "721/721 [==============================] - 0s 56us/step - loss: 1034.0508\n",
      "Epoch 43/50\n",
      "721/721 [==============================] - 0s 55us/step - loss: 996.7130\n",
      "Epoch 44/50\n",
      "721/721 [==============================] - 0s 57us/step - loss: 961.3772\n",
      "Epoch 45/50\n",
      "721/721 [==============================] - 0s 55us/step - loss: 926.8658\n",
      "Epoch 46/50\n",
      "721/721 [==============================] - 0s 54us/step - loss: 893.4160\n",
      "Epoch 47/50\n",
      "721/721 [==============================] - 0s 56us/step - loss: 861.5491\n",
      "Epoch 48/50\n",
      "721/721 [==============================] - 0s 67us/step - loss: 831.3008\n",
      "Epoch 49/50\n",
      "721/721 [==============================] - 0s 55us/step - loss: 802.2542\n",
      "Epoch 50/50\n",
      "721/721 [==============================] - 0s 58us/step - loss: 774.4568\n"
     ]
    },
    {
     "data": {
      "text/plain": [
       "<keras.callbacks.History at 0x7f5f64f149d0>"
      ]
     },
     "execution_count": 44,
     "metadata": {},
     "output_type": "execute_result"
    }
   ],
   "source": [
    "model.fit(X_train, y_train, epochs=50, verbose=1)"
   ]
  },
  {
   "cell_type": "code",
   "execution_count": 46,
   "metadata": {
    "tags": []
   },
   "outputs": [
    {
     "name": "stdout",
     "output_type": "stream",
     "text": [
      "309/309 [==============================] - 0s 130us/step\n",
      "Loss value:  662.2837990572538\n"
     ]
    }
   ],
   "source": [
    "loss_val = model.evaluate(X_test, y_test)\n",
    "y_pred = model.predict(X_test)\n",
    "\n",
    "print(\"Loss value: \", loss_val)"
   ]
  },
  {
   "cell_type": "code",
   "execution_count": 49,
   "metadata": {
    "tags": []
   },
   "outputs": [
    {
     "name": "stdout",
     "output_type": "stream",
     "text": [
      "Mean squared error:  662.2838418351408\n",
      "Standard deviation:  0.0\n"
     ]
    }
   ],
   "source": [
    "mean_quared_error = np.mean(mean_squared_error(y_test, y_pred))\n",
    "print(\"Mean squared error: \", mean_quared_error)\n",
    "\n",
    "standard_deviation = np.std(mean_quared_error)\n",
    "print(\"Standard deviation: \", standard_deviation)"
   ]
  },
  {
   "cell_type": "code",
   "execution_count": 51,
   "metadata": {
    "tags": []
   },
   "outputs": [
    {
     "name": "stdout",
     "output_type": "stream",
     "text": [
      "Mean squared error:  109.10577434911269\n",
      "Mean squared error:  105.21497367064529\n",
      "Mean squared error:  131.71905940999628\n",
      "Mean squared error:  101.17849102022898\n",
      "Mean squared error:  114.78386128554766\n",
      "Mean squared error:  114.41780548589239\n",
      "Mean squared error:  102.97552819059707\n",
      "Mean squared error:  113.77423985526411\n",
      "Mean squared error:  120.87850573221561\n",
      "Mean squared error:  116.17172196948772\n",
      "Mean squared error:  110.63850150701522\n",
      "Mean squared error:  124.4737928365826\n",
      "Mean squared error:  101.92424529996711\n",
      "Mean squared error:  110.865030059841\n",
      "Mean squared error:  110.25772760421135\n",
      "Mean squared error:  111.37815649180133\n",
      "Mean squared error:  107.51303924162387\n",
      "Mean squared error:  109.36292718135576\n",
      "Mean squared error:  104.16036319004641\n",
      "Mean squared error:  120.03732242652276\n",
      "Mean squared error:  119.21530112140734\n",
      "Mean squared error:  102.4686070398494\n",
      "Mean squared error:  111.10991923629967\n",
      "Mean squared error:  110.19300511749132\n",
      "Mean squared error:  109.50557405553499\n",
      "Mean squared error:  114.29048350030551\n",
      "Mean squared error:  107.61897357261438\n",
      "Mean squared error:  114.25916265596109\n",
      "Mean squared error:  122.88717802217649\n",
      "Mean squared error:  104.73926264266625\n",
      "Mean squared error:  102.4385902291141\n",
      "Mean squared error:  100.1120120768627\n",
      "Mean squared error:  102.58615633506851\n",
      "Mean squared error:  125.95285018227007\n",
      "Mean squared error:  122.49012791213781\n",
      "Mean squared error:  106.3908821439277\n",
      "Mean squared error:  127.57253871931006\n",
      "Mean squared error:  104.73798163152557\n",
      "Mean squared error:  112.63211335198577\n",
      "Mean squared error:  114.02477733090683\n",
      "Mean squared error:  112.21750122952034\n",
      "Mean squared error:  114.08359694604927\n",
      "Mean squared error:  117.59724312439869\n",
      "Mean squared error:  114.71005708680666\n",
      "Mean squared error:  104.42891605732112\n",
      "Mean squared error:  106.62051101650114\n",
      "Mean squared error:  102.21189735544952\n",
      "Mean squared error:  98.84200192508577\n",
      "Mean squared error:  108.35252109891238\n",
      "Mean squared error:  100.15099853240895\n",
      "Mean:  111.1054361611565\n",
      "Standard deviation:  7.739285108232953\n"
     ]
    }
   ],
   "source": [
    "total_mean_squared_errors = 50\n",
    "epochs = 50\n",
    "mean_squared_errors = []\n",
    "\n",
    "for i in range(total_mean_squared_errors):\n",
    "  X_train, X_test, y_train, y_test = train_test_split(predictors, target, test_size=0.3)\n",
    "  model.fit(X_train, y_train, epochs=epochs, verbose=0)\n",
    "  y_pred = model.predict(X_test)\n",
    "  mean_squared_errors.append(mean_squared_error(y_test, y_pred))\n",
    "  print(\"Mean squared error: \", mean_squared_error(y_test, y_pred))\n",
    "\n",
    "mean_squared_errors = np.array(mean_squared_errors)\n",
    "mean = np.mean(mean_squared_errors)\n",
    "\n",
    "print(\"Mean: \", mean)\n",
    "\n",
    "standard_deviation = np.std(mean_squared_errors)\n",
    "print(\"Standard deviation: \", standard_deviation)"
   ]
  },
  {
   "cell_type": "code",
   "execution_count": null,
   "metadata": {},
   "outputs": [],
   "source": []
  }
 ],
 "metadata": {
  "kernelspec": {
   "display_name": "Python",
   "language": "python",
   "name": "conda-env-python-py"
  },
  "language_info": {
   "codemirror_mode": {
    "name": "ipython",
    "version": 3
   },
   "file_extension": ".py",
   "mimetype": "text/x-python",
   "name": "python",
   "nbconvert_exporter": "python",
   "pygments_lexer": "ipython3",
   "version": "3.7.12"
  }
 },
 "nbformat": 4,
 "nbformat_minor": 4
}
